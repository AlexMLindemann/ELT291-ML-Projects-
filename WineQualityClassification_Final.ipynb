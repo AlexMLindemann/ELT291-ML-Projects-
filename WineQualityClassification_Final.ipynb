{
 "cells": [
  {
   "cell_type": "code",
   "execution_count": 2,
   "metadata": {},
   "outputs": [],
   "source": [
    "# import libraries\n",
    "import pandas as pd\n",
    "import numpy as np\n",
    "import time\n",
    "import matplotlib.pyplot as plt\n",
    "from sklearn.linear_model import SGDClassifier\n",
    "from sklearn.naive_bayes import GaussianNB\n",
    "from sklearn.neighbors import KNeighborsClassifier\n",
    "from sklearn.svm import SVC\n",
    "from sklearn.tree import DecisionTreeClassifier\n",
    "from sklearn.preprocessing import StandardScaler, MinMaxScaler\n",
    "from sklearn.metrics import mean_squared_error, precision_score, f1_score\n",
    "from sklearn.model_selection import GridSearchCV\n",
    "from sklearn.ensemble import RandomForestClassifier, AdaBoostClassifier, BaggingClassifier\n",
    "from sklearn.cluster import KMeans, SpectralClustering\n",
    "import sklearn.metrics as sm\n",
    "from sklearn.model_selection import GridSearchCV\n",
    "# additional libraries used\n",
    "import seaborn as sns\n",
    "from sklearn.model_selection import train_test_split\n",
    "from sklearn.decomposition import PCA\n",
    "from sklearn.preprocessing import StandardScaler\n",
    "from sklearn import preprocessing\n",
    "from scipy import stats"
   ]
  },
  {
   "cell_type": "code",
   "execution_count": 3,
   "metadata": {},
   "outputs": [],
   "source": [
    "df = pd.read_csv(\"wine.csv\")\n",
    "df = df.replace(['good', 'bad'], [1,0]) #replace good,bad with 1,0"
   ]
  },
  {
   "cell_type": "markdown",
   "metadata": {},
   "source": [
    "Attribute Information:\n",
    "Input variables (based on physicochemical tests):\n",
    "\n",
    "1 - fixed acidity\n",
    "\n",
    "2 - volatile acidity\n",
    "\n",
    "3 - citric acid\n",
    "\n",
    "4 - residual sugar\n",
    "\n",
    "5 - chlorides\n",
    "\n",
    "6 - free sulfur dioxide\n",
    "\n",
    "7 - total sulfur dioxide\n",
    "\n",
    "8 - density\n",
    "\n",
    "9 - pH\n",
    "\n",
    "10 - sulphates\n",
    "\n",
    "11 - alcohol\n",
    "\n",
    "Output variable (based on sensory data):\n",
    "\n",
    "12 - quality ('good' and 'bad' based on score >5 and <5)\n"
   ]
  },
  {
   "cell_type": "code",
   "execution_count": 4,
   "metadata": {},
   "outputs": [
    {
     "data": {
      "text/html": [
       "<div>\n",
       "<style scoped>\n",
       "    .dataframe tbody tr th:only-of-type {\n",
       "        vertical-align: middle;\n",
       "    }\n",
       "\n",
       "    .dataframe tbody tr th {\n",
       "        vertical-align: top;\n",
       "    }\n",
       "\n",
       "    .dataframe thead th {\n",
       "        text-align: right;\n",
       "    }\n",
       "</style>\n",
       "<table border=\"1\" class=\"dataframe\">\n",
       "  <thead>\n",
       "    <tr style=\"text-align: right;\">\n",
       "      <th></th>\n",
       "      <th>fixed acidity</th>\n",
       "      <th>volatile acidity</th>\n",
       "      <th>citric acid</th>\n",
       "      <th>residual sugar</th>\n",
       "      <th>chlorides</th>\n",
       "      <th>free sulfur dioxide</th>\n",
       "      <th>total sulfur dioxide</th>\n",
       "      <th>density</th>\n",
       "      <th>pH</th>\n",
       "      <th>sulphates</th>\n",
       "      <th>alcohol</th>\n",
       "      <th>quality</th>\n",
       "    </tr>\n",
       "  </thead>\n",
       "  <tbody>\n",
       "    <tr>\n",
       "      <th>0</th>\n",
       "      <td>7.4</td>\n",
       "      <td>0.70</td>\n",
       "      <td>0.00</td>\n",
       "      <td>1.9</td>\n",
       "      <td>0.076</td>\n",
       "      <td>11.0</td>\n",
       "      <td>34.0</td>\n",
       "      <td>0.9978</td>\n",
       "      <td>3.51</td>\n",
       "      <td>0.56</td>\n",
       "      <td>9.4</td>\n",
       "      <td>0</td>\n",
       "    </tr>\n",
       "    <tr>\n",
       "      <th>1</th>\n",
       "      <td>7.8</td>\n",
       "      <td>0.88</td>\n",
       "      <td>0.00</td>\n",
       "      <td>2.6</td>\n",
       "      <td>0.098</td>\n",
       "      <td>25.0</td>\n",
       "      <td>67.0</td>\n",
       "      <td>0.9968</td>\n",
       "      <td>3.20</td>\n",
       "      <td>0.68</td>\n",
       "      <td>9.8</td>\n",
       "      <td>0</td>\n",
       "    </tr>\n",
       "    <tr>\n",
       "      <th>2</th>\n",
       "      <td>7.8</td>\n",
       "      <td>0.76</td>\n",
       "      <td>0.04</td>\n",
       "      <td>2.3</td>\n",
       "      <td>0.092</td>\n",
       "      <td>15.0</td>\n",
       "      <td>54.0</td>\n",
       "      <td>0.9970</td>\n",
       "      <td>3.26</td>\n",
       "      <td>0.65</td>\n",
       "      <td>9.8</td>\n",
       "      <td>0</td>\n",
       "    </tr>\n",
       "    <tr>\n",
       "      <th>3</th>\n",
       "      <td>11.2</td>\n",
       "      <td>0.28</td>\n",
       "      <td>0.56</td>\n",
       "      <td>1.9</td>\n",
       "      <td>0.075</td>\n",
       "      <td>17.0</td>\n",
       "      <td>60.0</td>\n",
       "      <td>0.9980</td>\n",
       "      <td>3.16</td>\n",
       "      <td>0.58</td>\n",
       "      <td>9.8</td>\n",
       "      <td>1</td>\n",
       "    </tr>\n",
       "    <tr>\n",
       "      <th>4</th>\n",
       "      <td>7.4</td>\n",
       "      <td>0.70</td>\n",
       "      <td>0.00</td>\n",
       "      <td>1.9</td>\n",
       "      <td>0.076</td>\n",
       "      <td>11.0</td>\n",
       "      <td>34.0</td>\n",
       "      <td>0.9978</td>\n",
       "      <td>3.51</td>\n",
       "      <td>0.56</td>\n",
       "      <td>9.4</td>\n",
       "      <td>0</td>\n",
       "    </tr>\n",
       "  </tbody>\n",
       "</table>\n",
       "</div>"
      ],
      "text/plain": [
       "   fixed acidity  volatile acidity  citric acid  residual sugar  chlorides  \\\n",
       "0            7.4              0.70         0.00             1.9      0.076   \n",
       "1            7.8              0.88         0.00             2.6      0.098   \n",
       "2            7.8              0.76         0.04             2.3      0.092   \n",
       "3           11.2              0.28         0.56             1.9      0.075   \n",
       "4            7.4              0.70         0.00             1.9      0.076   \n",
       "\n",
       "   free sulfur dioxide  total sulfur dioxide  density    pH  sulphates  \\\n",
       "0                 11.0                  34.0   0.9978  3.51       0.56   \n",
       "1                 25.0                  67.0   0.9968  3.20       0.68   \n",
       "2                 15.0                  54.0   0.9970  3.26       0.65   \n",
       "3                 17.0                  60.0   0.9980  3.16       0.58   \n",
       "4                 11.0                  34.0   0.9978  3.51       0.56   \n",
       "\n",
       "   alcohol  quality  \n",
       "0      9.4        0  \n",
       "1      9.8        0  \n",
       "2      9.8        0  \n",
       "3      9.8        1  \n",
       "4      9.4        0  "
      ]
     },
     "execution_count": 4,
     "metadata": {},
     "output_type": "execute_result"
    }
   ],
   "source": [
    "df.head()"
   ]
  },
  {
   "cell_type": "code",
   "execution_count": 5,
   "metadata": {
    "scrolled": true
   },
   "outputs": [
    {
     "data": {
      "text/html": [
       "<div>\n",
       "<style scoped>\n",
       "    .dataframe tbody tr th:only-of-type {\n",
       "        vertical-align: middle;\n",
       "    }\n",
       "\n",
       "    .dataframe tbody tr th {\n",
       "        vertical-align: top;\n",
       "    }\n",
       "\n",
       "    .dataframe thead th {\n",
       "        text-align: right;\n",
       "    }\n",
       "</style>\n",
       "<table border=\"1\" class=\"dataframe\">\n",
       "  <thead>\n",
       "    <tr style=\"text-align: right;\">\n",
       "      <th></th>\n",
       "      <th>fixed acidity</th>\n",
       "      <th>volatile acidity</th>\n",
       "      <th>citric acid</th>\n",
       "      <th>residual sugar</th>\n",
       "      <th>chlorides</th>\n",
       "      <th>free sulfur dioxide</th>\n",
       "      <th>total sulfur dioxide</th>\n",
       "      <th>density</th>\n",
       "      <th>pH</th>\n",
       "      <th>sulphates</th>\n",
       "      <th>alcohol</th>\n",
       "      <th>quality</th>\n",
       "    </tr>\n",
       "  </thead>\n",
       "  <tbody>\n",
       "    <tr>\n",
       "      <th>count</th>\n",
       "      <td>1599.000000</td>\n",
       "      <td>1599.000000</td>\n",
       "      <td>1599.000000</td>\n",
       "      <td>1599.000000</td>\n",
       "      <td>1599.000000</td>\n",
       "      <td>1599.000000</td>\n",
       "      <td>1599.000000</td>\n",
       "      <td>1599.000000</td>\n",
       "      <td>1599.000000</td>\n",
       "      <td>1599.000000</td>\n",
       "      <td>1599.000000</td>\n",
       "      <td>1599.000000</td>\n",
       "    </tr>\n",
       "    <tr>\n",
       "      <th>mean</th>\n",
       "      <td>8.319637</td>\n",
       "      <td>0.527821</td>\n",
       "      <td>0.270976</td>\n",
       "      <td>2.538806</td>\n",
       "      <td>0.087467</td>\n",
       "      <td>15.874922</td>\n",
       "      <td>46.467792</td>\n",
       "      <td>0.996747</td>\n",
       "      <td>3.311113</td>\n",
       "      <td>0.658149</td>\n",
       "      <td>10.422983</td>\n",
       "      <td>0.534709</td>\n",
       "    </tr>\n",
       "    <tr>\n",
       "      <th>std</th>\n",
       "      <td>1.741096</td>\n",
       "      <td>0.179060</td>\n",
       "      <td>0.194801</td>\n",
       "      <td>1.409928</td>\n",
       "      <td>0.047065</td>\n",
       "      <td>10.460157</td>\n",
       "      <td>32.895324</td>\n",
       "      <td>0.001887</td>\n",
       "      <td>0.154386</td>\n",
       "      <td>0.169507</td>\n",
       "      <td>1.065668</td>\n",
       "      <td>0.498950</td>\n",
       "    </tr>\n",
       "    <tr>\n",
       "      <th>min</th>\n",
       "      <td>4.600000</td>\n",
       "      <td>0.120000</td>\n",
       "      <td>0.000000</td>\n",
       "      <td>0.900000</td>\n",
       "      <td>0.012000</td>\n",
       "      <td>1.000000</td>\n",
       "      <td>6.000000</td>\n",
       "      <td>0.990070</td>\n",
       "      <td>2.740000</td>\n",
       "      <td>0.330000</td>\n",
       "      <td>8.400000</td>\n",
       "      <td>0.000000</td>\n",
       "    </tr>\n",
       "    <tr>\n",
       "      <th>25%</th>\n",
       "      <td>7.100000</td>\n",
       "      <td>0.390000</td>\n",
       "      <td>0.090000</td>\n",
       "      <td>1.900000</td>\n",
       "      <td>0.070000</td>\n",
       "      <td>7.000000</td>\n",
       "      <td>22.000000</td>\n",
       "      <td>0.995600</td>\n",
       "      <td>3.210000</td>\n",
       "      <td>0.550000</td>\n",
       "      <td>9.500000</td>\n",
       "      <td>0.000000</td>\n",
       "    </tr>\n",
       "    <tr>\n",
       "      <th>50%</th>\n",
       "      <td>7.900000</td>\n",
       "      <td>0.520000</td>\n",
       "      <td>0.260000</td>\n",
       "      <td>2.200000</td>\n",
       "      <td>0.079000</td>\n",
       "      <td>14.000000</td>\n",
       "      <td>38.000000</td>\n",
       "      <td>0.996750</td>\n",
       "      <td>3.310000</td>\n",
       "      <td>0.620000</td>\n",
       "      <td>10.200000</td>\n",
       "      <td>1.000000</td>\n",
       "    </tr>\n",
       "    <tr>\n",
       "      <th>75%</th>\n",
       "      <td>9.200000</td>\n",
       "      <td>0.640000</td>\n",
       "      <td>0.420000</td>\n",
       "      <td>2.600000</td>\n",
       "      <td>0.090000</td>\n",
       "      <td>21.000000</td>\n",
       "      <td>62.000000</td>\n",
       "      <td>0.997835</td>\n",
       "      <td>3.400000</td>\n",
       "      <td>0.730000</td>\n",
       "      <td>11.100000</td>\n",
       "      <td>1.000000</td>\n",
       "    </tr>\n",
       "    <tr>\n",
       "      <th>max</th>\n",
       "      <td>15.900000</td>\n",
       "      <td>1.580000</td>\n",
       "      <td>1.000000</td>\n",
       "      <td>15.500000</td>\n",
       "      <td>0.611000</td>\n",
       "      <td>72.000000</td>\n",
       "      <td>289.000000</td>\n",
       "      <td>1.003690</td>\n",
       "      <td>4.010000</td>\n",
       "      <td>2.000000</td>\n",
       "      <td>14.900000</td>\n",
       "      <td>1.000000</td>\n",
       "    </tr>\n",
       "  </tbody>\n",
       "</table>\n",
       "</div>"
      ],
      "text/plain": [
       "       fixed acidity  volatile acidity  citric acid  residual sugar  \\\n",
       "count    1599.000000       1599.000000  1599.000000     1599.000000   \n",
       "mean        8.319637          0.527821     0.270976        2.538806   \n",
       "std         1.741096          0.179060     0.194801        1.409928   \n",
       "min         4.600000          0.120000     0.000000        0.900000   \n",
       "25%         7.100000          0.390000     0.090000        1.900000   \n",
       "50%         7.900000          0.520000     0.260000        2.200000   \n",
       "75%         9.200000          0.640000     0.420000        2.600000   \n",
       "max        15.900000          1.580000     1.000000       15.500000   \n",
       "\n",
       "         chlorides  free sulfur dioxide  total sulfur dioxide      density  \\\n",
       "count  1599.000000          1599.000000           1599.000000  1599.000000   \n",
       "mean      0.087467            15.874922             46.467792     0.996747   \n",
       "std       0.047065            10.460157             32.895324     0.001887   \n",
       "min       0.012000             1.000000              6.000000     0.990070   \n",
       "25%       0.070000             7.000000             22.000000     0.995600   \n",
       "50%       0.079000            14.000000             38.000000     0.996750   \n",
       "75%       0.090000            21.000000             62.000000     0.997835   \n",
       "max       0.611000            72.000000            289.000000     1.003690   \n",
       "\n",
       "                pH    sulphates      alcohol      quality  \n",
       "count  1599.000000  1599.000000  1599.000000  1599.000000  \n",
       "mean      3.311113     0.658149    10.422983     0.534709  \n",
       "std       0.154386     0.169507     1.065668     0.498950  \n",
       "min       2.740000     0.330000     8.400000     0.000000  \n",
       "25%       3.210000     0.550000     9.500000     0.000000  \n",
       "50%       3.310000     0.620000    10.200000     1.000000  \n",
       "75%       3.400000     0.730000    11.100000     1.000000  \n",
       "max       4.010000     2.000000    14.900000     1.000000  "
      ]
     },
     "execution_count": 5,
     "metadata": {},
     "output_type": "execute_result"
    }
   ],
   "source": [
    "df.describe()"
   ]
  },
  {
   "cell_type": "code",
   "execution_count": 6,
   "metadata": {},
   "outputs": [
    {
     "data": {
      "text/plain": [
       "<AxesSubplot:xlabel='residual sugar'>"
      ]
     },
     "execution_count": 6,
     "metadata": {},
     "output_type": "execute_result"
    },
    {
     "data": {
      "image/png": "[encoded data removed]",
      "text/plain": [
       "<Figure size 432x288 with 1 Axes>"
      ]
     },
     "metadata": {
      "needs_background": "light"
     },
     "output_type": "display_data"
    }
   ],
   "source": [
    "#box plot to check for outliers\n",
    "import warnings #ignores needless warning\n",
    "warnings.simplefilter(action=\"ignore\", category=FutureWarning)\n",
    "sns.boxplot(df['residual sugar'])"
   ]
  },
  {
   "cell_type": "code",
   "execution_count": 7,
   "metadata": {},
   "outputs": [
    {
     "data": {
      "text/plain": [
       "<AxesSubplot:xlabel='chlorides'>"
      ]
     },
     "execution_count": 7,
     "metadata": {},
     "output_type": "execute_result"
    },
    {
     "data": {
      "image/png": "[encoded data removed]",
      "text/plain": [
       "<Figure size 432x288 with 1 Axes>"
      ]
     },
     "metadata": {
      "needs_background": "light"
     },
     "output_type": "display_data"
    }
   ],
   "source": [
    "sns.boxplot(df['chlorides'])"
   ]
  },
  {
   "cell_type": "markdown",
   "metadata": {},
   "source": [
    "There are outliers so I will blanked remove them from the dataframe."
   ]
  },
  {
   "cell_type": "code",
   "execution_count": 8,
   "metadata": {},
   "outputs": [
    {
     "data": {
      "text/plain": [
       "(1599, 12)"
      ]
     },
     "execution_count": 8,
     "metadata": {},
     "output_type": "execute_result"
    }
   ],
   "source": [
    "df.shape"
   ]
  },
  {
   "cell_type": "code",
   "execution_count": 9,
   "metadata": {},
   "outputs": [
    {
     "data": {
      "text/plain": [
       "(1458, 12)"
      ]
     },
     "execution_count": 9,
     "metadata": {},
     "output_type": "execute_result"
    }
   ],
   "source": [
    "# z-score calculation for removing outliers from the dataframe\n",
    "z = np.abs(stats.zscore(df))\n",
    "df = df[(z < 3).all(axis=1)]\n",
    "df.shape"
   ]
  },
  {
   "cell_type": "code",
   "execution_count": 10,
   "metadata": {},
   "outputs": [
    {
     "data": {
      "text/plain": [
       "Index(['fixed acidity', 'volatile acidity', 'citric acid', 'residual sugar',\n",
       "       'chlorides', 'free sulfur dioxide', 'total sulfur dioxide', 'density',\n",
       "       'pH', 'sulphates', 'alcohol', 'quality'],\n",
       "      dtype='object')"
      ]
     },
     "execution_count": 10,
     "metadata": {},
     "output_type": "execute_result"
    }
   ],
   "source": [
    "df.columns"
   ]
  },
  {
   "cell_type": "code",
   "execution_count": 11,
   "metadata": {},
   "outputs": [
    {
     "data": {
      "text/plain": [
       "<AxesSubplot:>"
      ]
     },
     "execution_count": 11,
     "metadata": {},
     "output_type": "execute_result"
    },
    {
     "data": {
      "image/png": "[encoded data removed]",
      "text/plain": [
       "<Figure size 1080x720 with 2 Axes>"
      ]
     },
     "metadata": {
      "needs_background": "light"
     },
     "output_type": "display_data"
    }
   ],
   "source": [
    "#Correlation Matrix for the features\n",
    "plt.subplots(figsize=(15, 10)) \n",
    "sns.heatmap(df.corr(), annot = True, cmap = 'coolwarm')"
   ]
  },
  {
   "cell_type": "code",
   "execution_count": 12,
   "metadata": {},
   "outputs": [
    {
     "data": {
      "text/html": [
       "<div>\n",
       "<style scoped>\n",
       "    .dataframe tbody tr th:only-of-type {\n",
       "        vertical-align: middle;\n",
       "    }\n",
       "\n",
       "    .dataframe tbody tr th {\n",
       "        vertical-align: top;\n",
       "    }\n",
       "\n",
       "    .dataframe thead th {\n",
       "        text-align: right;\n",
       "    }\n",
       "</style>\n",
       "<table border=\"1\" class=\"dataframe\">\n",
       "  <thead>\n",
       "    <tr style=\"text-align: right;\">\n",
       "      <th>quality</th>\n",
       "      <th>0</th>\n",
       "      <th>1</th>\n",
       "    </tr>\n",
       "  </thead>\n",
       "  <tbody>\n",
       "    <tr>\n",
       "      <th>fixed acidity</th>\n",
       "      <td>8.109538</td>\n",
       "      <td>8.485642</td>\n",
       "    </tr>\n",
       "    <tr>\n",
       "      <th>volatile acidity</th>\n",
       "      <td>0.578599</td>\n",
       "      <td>0.477541</td>\n",
       "    </tr>\n",
       "    <tr>\n",
       "      <th>citric acid</th>\n",
       "      <td>0.230089</td>\n",
       "      <td>0.295286</td>\n",
       "    </tr>\n",
       "    <tr>\n",
       "      <th>residual sugar</th>\n",
       "      <td>2.374590</td>\n",
       "      <td>2.400762</td>\n",
       "    </tr>\n",
       "    <tr>\n",
       "      <th>chlorides</th>\n",
       "      <td>0.083578</td>\n",
       "      <td>0.079785</td>\n",
       "    </tr>\n",
       "    <tr>\n",
       "      <th>free sulfur dioxide</th>\n",
       "      <td>15.710879</td>\n",
       "      <td>14.560356</td>\n",
       "    </tr>\n",
       "    <tr>\n",
       "      <th>total sulfur dioxide</th>\n",
       "      <td>51.910581</td>\n",
       "      <td>36.626429</td>\n",
       "    </tr>\n",
       "    <tr>\n",
       "      <th>density</th>\n",
       "      <td>0.996996</td>\n",
       "      <td>0.996481</td>\n",
       "    </tr>\n",
       "    <tr>\n",
       "      <th>pH</th>\n",
       "      <td>3.321177</td>\n",
       "      <td>3.311868</td>\n",
       "    </tr>\n",
       "    <tr>\n",
       "      <th>sulphates</th>\n",
       "      <td>0.595306</td>\n",
       "      <td>0.682579</td>\n",
       "    </tr>\n",
       "    <tr>\n",
       "      <th>alcohol</th>\n",
       "      <td>9.929657</td>\n",
       "      <td>10.833990</td>\n",
       "    </tr>\n",
       "  </tbody>\n",
       "</table>\n",
       "</div>"
      ],
      "text/plain": [
       "quality                       0          1\n",
       "fixed acidity          8.109538   8.485642\n",
       "volatile acidity       0.578599   0.477541\n",
       "citric acid            0.230089   0.295286\n",
       "residual sugar         2.374590   2.400762\n",
       "chlorides              0.083578   0.079785\n",
       "free sulfur dioxide   15.710879  14.560356\n",
       "total sulfur dioxide  51.910581  36.626429\n",
       "density                0.996996   0.996481\n",
       "pH                     3.321177   3.311868\n",
       "sulphates              0.595306   0.682579\n",
       "alcohol                9.929657  10.833990"
      ]
     },
     "execution_count": 12,
     "metadata": {},
     "output_type": "execute_result"
    }
   ],
   "source": [
    "df.groupby([\"quality\"]).mean().transpose() "
   ]
  },
  {
   "cell_type": "code",
   "execution_count": 13,
   "metadata": {},
   "outputs": [],
   "source": [
    "# Needed to create the hex plots because some weren't a useable datatype\n",
    "df.is_copy = False\n",
    "df[\"fixed acidity\"] = df[\"fixed acidity\"].apply(lambda x: float(x))\n",
    "df[\"volatile acidity\"] = df[\"volatile acidity\"].apply(lambda x: float(x))\n",
    "df[\"citric acid\"] = df[\"citric acid\"].apply(lambda x: float(x))\n",
    "df[\"residual sugar\"] = df[\"residual sugar\"].apply(lambda x: float(x))\n",
    "df[\"chlorides\"] = df[\"chlorides\"].apply(lambda x: float(x))\n",
    "df[\"free sulfur dioxide\"] = df[\"free sulfur dioxide\"].apply(lambda x: int(x))\n",
    "df[\"total sulfur dioxide\"] = df[\"total sulfur dioxide\"].apply(lambda x: int(x))\n",
    "df[\"density\"] = df[\"density\"].apply(lambda x: float(x))\n",
    "df[\"pH\"] = df[\"pH\"].apply(lambda x: float(x))\n",
    "df[\"sulphates\"] = df[\"sulphates\"].apply(lambda x: float(x))\n",
    "df[\"alcohol\"] = df[\"alcohol\"].apply(lambda x: float(x))\n",
    "df[\"quality\"] = df[\"quality\"].apply(lambda x: str(x))"
   ]
  },
  {
   "cell_type": "code",
   "execution_count": 14,
   "metadata": {},
   "outputs": [
    {
     "data": {
      "text/html": [
       "<div>\n",
       "<style scoped>\n",
       "    .dataframe tbody tr th:only-of-type {\n",
       "        vertical-align: middle;\n",
       "    }\n",
       "\n",
       "    .dataframe tbody tr th {\n",
       "        vertical-align: top;\n",
       "    }\n",
       "\n",
       "    .dataframe thead th {\n",
       "        text-align: right;\n",
       "    }\n",
       "</style>\n",
       "<table border=\"1\" class=\"dataframe\">\n",
       "  <thead>\n",
       "    <tr style=\"text-align: right;\">\n",
       "      <th></th>\n",
       "      <th>fixed acidity</th>\n",
       "      <th>volatile acidity</th>\n",
       "      <th>citric acid</th>\n",
       "      <th>residual sugar</th>\n",
       "      <th>chlorides</th>\n",
       "      <th>free sulfur dioxide</th>\n",
       "      <th>total sulfur dioxide</th>\n",
       "      <th>density</th>\n",
       "      <th>pH</th>\n",
       "      <th>sulphates</th>\n",
       "      <th>alcohol</th>\n",
       "    </tr>\n",
       "  </thead>\n",
       "  <tbody>\n",
       "    <tr>\n",
       "      <th>fixed acidity</th>\n",
       "      <td>1.000000</td>\n",
       "      <td>-0.233123</td>\n",
       "      <td>0.654939</td>\n",
       "      <td>0.127480</td>\n",
       "      <td>0.197695</td>\n",
       "      <td>-0.054725</td>\n",
       "      <td>-0.005525</td>\n",
       "      <td>0.697299</td>\n",
       "      <td>-0.652758</td>\n",
       "      <td>0.105102</td>\n",
       "      <td>-0.103553</td>\n",
       "    </tr>\n",
       "    <tr>\n",
       "      <th>volatile acidity</th>\n",
       "      <td>-0.233123</td>\n",
       "      <td>1.000000</td>\n",
       "      <td>-0.537425</td>\n",
       "      <td>0.014362</td>\n",
       "      <td>0.009716</td>\n",
       "      <td>-0.101613</td>\n",
       "      <td>-0.063921</td>\n",
       "      <td>-0.124796</td>\n",
       "      <td>0.200729</td>\n",
       "      <td>-0.234885</td>\n",
       "      <td>0.006160</td>\n",
       "    </tr>\n",
       "    <tr>\n",
       "      <th>citric acid</th>\n",
       "      <td>0.654939</td>\n",
       "      <td>-0.537425</td>\n",
       "      <td>1.000000</td>\n",
       "      <td>0.154126</td>\n",
       "      <td>0.151295</td>\n",
       "      <td>0.072142</td>\n",
       "      <td>0.197910</td>\n",
       "      <td>0.460006</td>\n",
       "      <td>-0.445208</td>\n",
       "      <td>0.223900</td>\n",
       "      <td>-0.020049</td>\n",
       "    </tr>\n",
       "    <tr>\n",
       "      <th>residual sugar</th>\n",
       "      <td>0.127480</td>\n",
       "      <td>0.014362</td>\n",
       "      <td>0.154126</td>\n",
       "      <td>1.000000</td>\n",
       "      <td>0.066713</td>\n",
       "      <td>0.069606</td>\n",
       "      <td>0.165049</td>\n",
       "      <td>0.351296</td>\n",
       "      <td>-0.034958</td>\n",
       "      <td>0.078704</td>\n",
       "      <td>0.184525</td>\n",
       "    </tr>\n",
       "    <tr>\n",
       "      <th>chlorides</th>\n",
       "      <td>0.197695</td>\n",
       "      <td>0.009716</td>\n",
       "      <td>0.151295</td>\n",
       "      <td>0.066713</td>\n",
       "      <td>1.000000</td>\n",
       "      <td>0.007770</td>\n",
       "      <td>0.074949</td>\n",
       "      <td>0.311453</td>\n",
       "      <td>-0.201810</td>\n",
       "      <td>0.203421</td>\n",
       "      <td>-0.207783</td>\n",
       "    </tr>\n",
       "    <tr>\n",
       "      <th>free sulfur dioxide</th>\n",
       "      <td>-0.054725</td>\n",
       "      <td>-0.101613</td>\n",
       "      <td>0.072142</td>\n",
       "      <td>0.069606</td>\n",
       "      <td>0.007770</td>\n",
       "      <td>1.000000</td>\n",
       "      <td>0.678202</td>\n",
       "      <td>0.024652</td>\n",
       "      <td>0.000105</td>\n",
       "      <td>0.128091</td>\n",
       "      <td>-0.110781</td>\n",
       "    </tr>\n",
       "    <tr>\n",
       "      <th>total sulfur dioxide</th>\n",
       "      <td>-0.005525</td>\n",
       "      <td>-0.063921</td>\n",
       "      <td>0.197910</td>\n",
       "      <td>0.165049</td>\n",
       "      <td>0.074949</td>\n",
       "      <td>0.678202</td>\n",
       "      <td>1.000000</td>\n",
       "      <td>0.110231</td>\n",
       "      <td>-0.128943</td>\n",
       "      <td>0.113514</td>\n",
       "      <td>-0.205424</td>\n",
       "    </tr>\n",
       "    <tr>\n",
       "      <th>density</th>\n",
       "      <td>0.697299</td>\n",
       "      <td>-0.124796</td>\n",
       "      <td>0.460006</td>\n",
       "      <td>0.351296</td>\n",
       "      <td>0.311453</td>\n",
       "      <td>0.024652</td>\n",
       "      <td>0.110231</td>\n",
       "      <td>1.000000</td>\n",
       "      <td>-0.262436</td>\n",
       "      <td>0.230389</td>\n",
       "      <td>-0.350544</td>\n",
       "    </tr>\n",
       "    <tr>\n",
       "      <th>pH</th>\n",
       "      <td>-0.652758</td>\n",
       "      <td>0.200729</td>\n",
       "      <td>-0.445208</td>\n",
       "      <td>-0.034958</td>\n",
       "      <td>-0.201810</td>\n",
       "      <td>0.000105</td>\n",
       "      <td>-0.128943</td>\n",
       "      <td>-0.262436</td>\n",
       "      <td>1.000000</td>\n",
       "      <td>0.013908</td>\n",
       "      <td>0.278036</td>\n",
       "    </tr>\n",
       "    <tr>\n",
       "      <th>sulphates</th>\n",
       "      <td>0.105102</td>\n",
       "      <td>-0.234885</td>\n",
       "      <td>0.223900</td>\n",
       "      <td>0.078704</td>\n",
       "      <td>0.203421</td>\n",
       "      <td>0.128091</td>\n",
       "      <td>0.113514</td>\n",
       "      <td>0.230389</td>\n",
       "      <td>0.013908</td>\n",
       "      <td>1.000000</td>\n",
       "      <td>0.064446</td>\n",
       "    </tr>\n",
       "    <tr>\n",
       "      <th>alcohol</th>\n",
       "      <td>-0.103553</td>\n",
       "      <td>0.006160</td>\n",
       "      <td>-0.020049</td>\n",
       "      <td>0.184525</td>\n",
       "      <td>-0.207783</td>\n",
       "      <td>-0.110781</td>\n",
       "      <td>-0.205424</td>\n",
       "      <td>-0.350544</td>\n",
       "      <td>0.278036</td>\n",
       "      <td>0.064446</td>\n",
       "      <td>1.000000</td>\n",
       "    </tr>\n",
       "  </tbody>\n",
       "</table>\n",
       "</div>"
      ],
      "text/plain": [
       "                      fixed acidity  volatile acidity  citric acid  \\\n",
       "fixed acidity              1.000000         -0.233123     0.654939   \n",
       "volatile acidity          -0.233123          1.000000    -0.537425   \n",
       "citric acid                0.654939         -0.537425     1.000000   \n",
       "residual sugar             0.127480          0.014362     0.154126   \n",
       "chlorides                  0.197695          0.009716     0.151295   \n",
       "free sulfur dioxide       -0.054725         -0.101613     0.072142   \n",
       "total sulfur dioxide      -0.005525         -0.063921     0.197910   \n",
       "density                    0.697299         -0.124796     0.460006   \n",
       "pH                        -0.652758          0.200729    -0.445208   \n",
       "sulphates                  0.105102         -0.234885     0.223900   \n",
       "alcohol                   -0.103553          0.006160    -0.020049   \n",
       "\n",
       "                      residual sugar  chlorides  free sulfur dioxide  \\\n",
       "fixed acidity               0.127480   0.197695            -0.054725   \n",
       "volatile acidity            0.014362   0.009716            -0.101613   \n",
       "citric acid                 0.154126   0.151295             0.072142   \n",
       "residual sugar              1.000000   0.066713             0.069606   \n",
       "chlorides                   0.066713   1.000000             0.007770   \n",
       "free sulfur dioxide         0.069606   0.007770             1.000000   \n",
       "total sulfur dioxide        0.165049   0.074949             0.678202   \n",
       "density                     0.351296   0.311453             0.024652   \n",
       "pH                         -0.034958  -0.201810             0.000105   \n",
       "sulphates                   0.078704   0.203421             0.128091   \n",
       "alcohol                     0.184525  -0.207783            -0.110781   \n",
       "\n",
       "                      total sulfur dioxide   density        pH  sulphates  \\\n",
       "fixed acidity                    -0.005525  0.697299 -0.652758   0.105102   \n",
       "volatile acidity                 -0.063921 -0.124796  0.200729  -0.234885   \n",
       "citric acid                       0.197910  0.460006 -0.445208   0.223900   \n",
       "residual sugar                    0.165049  0.351296 -0.034958   0.078704   \n",
       "chlorides                         0.074949  0.311453 -0.201810   0.203421   \n",
       "free sulfur dioxide               0.678202  0.024652  0.000105   0.128091   \n",
       "total sulfur dioxide              1.000000  0.110231 -0.128943   0.113514   \n",
       "density                           0.110231  1.000000 -0.262436   0.230389   \n",
       "pH                               -0.128943 -0.262436  1.000000   0.013908   \n",
       "sulphates                         0.113514  0.230389  0.013908   1.000000   \n",
       "alcohol                          -0.205424 -0.350544  0.278036   0.064446   \n",
       "\n",
       "                       alcohol  \n",
       "fixed acidity        -0.103553  \n",
       "volatile acidity      0.006160  \n",
       "citric acid          -0.020049  \n",
       "residual sugar        0.184525  \n",
       "chlorides            -0.207783  \n",
       "free sulfur dioxide  -0.110781  \n",
       "total sulfur dioxide -0.205424  \n",
       "density              -0.350544  \n",
       "pH                    0.278036  \n",
       "sulphates             0.064446  \n",
       "alcohol               1.000000  "
      ]
     },
     "execution_count": 14,
     "metadata": {},
     "output_type": "execute_result"
    }
   ],
   "source": [
    "df[df['quality'] == '0'].corr() #corr for bad"
   ]
  },
  {
   "cell_type": "code",
   "execution_count": 15,
   "metadata": {},
   "outputs": [
    {
     "data": {
      "text/html": [
       "<div>\n",
       "<style scoped>\n",
       "    .dataframe tbody tr th:only-of-type {\n",
       "        vertical-align: middle;\n",
       "    }\n",
       "\n",
       "    .dataframe tbody tr th {\n",
       "        vertical-align: top;\n",
       "    }\n",
       "\n",
       "    .dataframe thead th {\n",
       "        text-align: right;\n",
       "    }\n",
       "</style>\n",
       "<table border=\"1\" class=\"dataframe\">\n",
       "  <thead>\n",
       "    <tr style=\"text-align: right;\">\n",
       "      <th></th>\n",
       "      <th>fixed acidity</th>\n",
       "      <th>volatile acidity</th>\n",
       "      <th>citric acid</th>\n",
       "      <th>residual sugar</th>\n",
       "      <th>chlorides</th>\n",
       "      <th>free sulfur dioxide</th>\n",
       "      <th>total sulfur dioxide</th>\n",
       "      <th>density</th>\n",
       "      <th>pH</th>\n",
       "      <th>sulphates</th>\n",
       "      <th>alcohol</th>\n",
       "    </tr>\n",
       "  </thead>\n",
       "  <tbody>\n",
       "    <tr>\n",
       "      <th>fixed acidity</th>\n",
       "      <td>1.000000</td>\n",
       "      <td>-0.310000</td>\n",
       "      <td>0.721722</td>\n",
       "      <td>0.210273</td>\n",
       "      <td>0.201571</td>\n",
       "      <td>-0.208672</td>\n",
       "      <td>-0.157638</td>\n",
       "      <td>0.685628</td>\n",
       "      <td>-0.753984</td>\n",
       "      <td>0.219623</td>\n",
       "      <td>-0.064266</td>\n",
       "    </tr>\n",
       "    <tr>\n",
       "      <th>volatile acidity</th>\n",
       "      <td>-0.310000</td>\n",
       "      <td>1.000000</td>\n",
       "      <td>-0.600598</td>\n",
       "      <td>0.058726</td>\n",
       "      <td>0.072391</td>\n",
       "      <td>0.072036</td>\n",
       "      <td>0.158542</td>\n",
       "      <td>0.004774</td>\n",
       "      <td>0.303626</td>\n",
       "      <td>-0.313263</td>\n",
       "      <td>-0.156435</td>\n",
       "    </tr>\n",
       "    <tr>\n",
       "      <th>citric acid</th>\n",
       "      <td>0.721722</td>\n",
       "      <td>-0.600598</td>\n",
       "      <td>1.000000</td>\n",
       "      <td>0.197859</td>\n",
       "      <td>0.103558</td>\n",
       "      <td>-0.172695</td>\n",
       "      <td>-0.118091</td>\n",
       "      <td>0.377022</td>\n",
       "      <td>-0.590758</td>\n",
       "      <td>0.294600</td>\n",
       "      <td>0.166472</td>\n",
       "    </tr>\n",
       "    <tr>\n",
       "      <th>residual sugar</th>\n",
       "      <td>0.210273</td>\n",
       "      <td>0.058726</td>\n",
       "      <td>0.197859</td>\n",
       "      <td>1.000000</td>\n",
       "      <td>0.163864</td>\n",
       "      <td>-0.070956</td>\n",
       "      <td>0.016367</td>\n",
       "      <td>0.351020</td>\n",
       "      <td>-0.105759</td>\n",
       "      <td>0.063832</td>\n",
       "      <td>0.171445</td>\n",
       "    </tr>\n",
       "    <tr>\n",
       "      <th>chlorides</th>\n",
       "      <td>0.201571</td>\n",
       "      <td>0.072391</td>\n",
       "      <td>0.103558</td>\n",
       "      <td>0.163864</td>\n",
       "      <td>1.000000</td>\n",
       "      <td>-0.118108</td>\n",
       "      <td>-0.044695</td>\n",
       "      <td>0.327772</td>\n",
       "      <td>-0.177475</td>\n",
       "      <td>-0.036543</td>\n",
       "      <td>-0.183520</td>\n",
       "    </tr>\n",
       "    <tr>\n",
       "      <th>free sulfur dioxide</th>\n",
       "      <td>-0.208672</td>\n",
       "      <td>0.072036</td>\n",
       "      <td>-0.172695</td>\n",
       "      <td>-0.070956</td>\n",
       "      <td>-0.118108</td>\n",
       "      <td>1.000000</td>\n",
       "      <td>0.688055</td>\n",
       "      <td>-0.103552</td>\n",
       "      <td>0.206732</td>\n",
       "      <td>0.050795</td>\n",
       "      <td>-0.022390</td>\n",
       "    </tr>\n",
       "    <tr>\n",
       "      <th>total sulfur dioxide</th>\n",
       "      <td>-0.157638</td>\n",
       "      <td>0.158542</td>\n",
       "      <td>-0.118091</td>\n",
       "      <td>0.016367</td>\n",
       "      <td>-0.044695</td>\n",
       "      <td>0.688055</td>\n",
       "      <td>1.000000</td>\n",
       "      <td>0.059715</td>\n",
       "      <td>0.144412</td>\n",
       "      <td>-0.013773</td>\n",
       "      <td>-0.157208</td>\n",
       "    </tr>\n",
       "    <tr>\n",
       "      <th>density</th>\n",
       "      <td>0.685628</td>\n",
       "      <td>0.004774</td>\n",
       "      <td>0.377022</td>\n",
       "      <td>0.351020</td>\n",
       "      <td>0.327772</td>\n",
       "      <td>-0.103552</td>\n",
       "      <td>0.059715</td>\n",
       "      <td>1.000000</td>\n",
       "      <td>-0.366977</td>\n",
       "      <td>0.166386</td>\n",
       "      <td>-0.506128</td>\n",
       "    </tr>\n",
       "    <tr>\n",
       "      <th>pH</th>\n",
       "      <td>-0.753984</td>\n",
       "      <td>0.303626</td>\n",
       "      <td>-0.590758</td>\n",
       "      <td>-0.105759</td>\n",
       "      <td>-0.177475</td>\n",
       "      <td>0.206732</td>\n",
       "      <td>0.144412</td>\n",
       "      <td>-0.366977</td>\n",
       "      <td>1.000000</td>\n",
       "      <td>-0.066998</td>\n",
       "      <td>0.106675</td>\n",
       "    </tr>\n",
       "    <tr>\n",
       "      <th>sulphates</th>\n",
       "      <td>0.219623</td>\n",
       "      <td>-0.313263</td>\n",
       "      <td>0.294600</td>\n",
       "      <td>0.063832</td>\n",
       "      <td>-0.036543</td>\n",
       "      <td>0.050795</td>\n",
       "      <td>-0.013773</td>\n",
       "      <td>0.166386</td>\n",
       "      <td>-0.066998</td>\n",
       "      <td>1.000000</td>\n",
       "      <td>0.135339</td>\n",
       "    </tr>\n",
       "    <tr>\n",
       "      <th>alcohol</th>\n",
       "      <td>-0.064266</td>\n",
       "      <td>-0.156435</td>\n",
       "      <td>0.166472</td>\n",
       "      <td>0.171445</td>\n",
       "      <td>-0.183520</td>\n",
       "      <td>-0.022390</td>\n",
       "      <td>-0.157208</td>\n",
       "      <td>-0.506128</td>\n",
       "      <td>0.106675</td>\n",
       "      <td>0.135339</td>\n",
       "      <td>1.000000</td>\n",
       "    </tr>\n",
       "  </tbody>\n",
       "</table>\n",
       "</div>"
      ],
      "text/plain": [
       "                      fixed acidity  volatile acidity  citric acid  \\\n",
       "fixed acidity              1.000000         -0.310000     0.721722   \n",
       "volatile acidity          -0.310000          1.000000    -0.600598   \n",
       "citric acid                0.721722         -0.600598     1.000000   \n",
       "residual sugar             0.210273          0.058726     0.197859   \n",
       "chlorides                  0.201571          0.072391     0.103558   \n",
       "free sulfur dioxide       -0.208672          0.072036    -0.172695   \n",
       "total sulfur dioxide      -0.157638          0.158542    -0.118091   \n",
       "density                    0.685628          0.004774     0.377022   \n",
       "pH                        -0.753984          0.303626    -0.590758   \n",
       "sulphates                  0.219623         -0.313263     0.294600   \n",
       "alcohol                   -0.064266         -0.156435     0.166472   \n",
       "\n",
       "                      residual sugar  chlorides  free sulfur dioxide  \\\n",
       "fixed acidity               0.210273   0.201571            -0.208672   \n",
       "volatile acidity            0.058726   0.072391             0.072036   \n",
       "citric acid                 0.197859   0.103558            -0.172695   \n",
       "residual sugar              1.000000   0.163864            -0.070956   \n",
       "chlorides                   0.163864   1.000000            -0.118108   \n",
       "free sulfur dioxide        -0.070956  -0.118108             1.000000   \n",
       "total sulfur dioxide        0.016367  -0.044695             0.688055   \n",
       "density                     0.351020   0.327772            -0.103552   \n",
       "pH                         -0.105759  -0.177475             0.206732   \n",
       "sulphates                   0.063832  -0.036543             0.050795   \n",
       "alcohol                     0.171445  -0.183520            -0.022390   \n",
       "\n",
       "                      total sulfur dioxide   density        pH  sulphates  \\\n",
       "fixed acidity                    -0.157638  0.685628 -0.753984   0.219623   \n",
       "volatile acidity                  0.158542  0.004774  0.303626  -0.313263   \n",
       "citric acid                      -0.118091  0.377022 -0.590758   0.294600   \n",
       "residual sugar                    0.016367  0.351020 -0.105759   0.063832   \n",
       "chlorides                        -0.044695  0.327772 -0.177475  -0.036543   \n",
       "free sulfur dioxide               0.688055 -0.103552  0.206732   0.050795   \n",
       "total sulfur dioxide              1.000000  0.059715  0.144412  -0.013773   \n",
       "density                           0.059715  1.000000 -0.366977   0.166386   \n",
       "pH                                0.144412 -0.366977  1.000000  -0.066998   \n",
       "sulphates                        -0.013773  0.166386 -0.066998   1.000000   \n",
       "alcohol                          -0.157208 -0.506128  0.106675   0.135339   \n",
       "\n",
       "                       alcohol  \n",
       "fixed acidity        -0.064266  \n",
       "volatile acidity     -0.156435  \n",
       "citric acid           0.166472  \n",
       "residual sugar        0.171445  \n",
       "chlorides            -0.183520  \n",
       "free sulfur dioxide  -0.022390  \n",
       "total sulfur dioxide -0.157208  \n",
       "density              -0.506128  \n",
       "pH                    0.106675  \n",
       "sulphates             0.135339  \n",
       "alcohol               1.000000  "
      ]
     },
     "execution_count": 15,
     "metadata": {},
     "output_type": "execute_result"
    }
   ],
   "source": [
    "df[df['quality'] == '1'].corr() #corr for good"
   ]
  },
  {
   "cell_type": "code",
   "execution_count": 16,
   "metadata": {},
   "outputs": [
    {
     "data": {
      "image/png": "[encoded data removed]",
      "text/plain": [
       "<Figure size 432x288 with 1 Axes>"
      ]
     },
     "metadata": {},
     "output_type": "display_data"
    }
   ],
   "source": [
    "#Pie chart to get a better idea of the distribution between good and bad quality. As seen, it is mostly balanced. \n",
    "df['quality'].value_counts()\n",
    "df['quality'].value_counts().plot.pie(autopct='%1.2f%%');"
   ]
  },
  {
   "cell_type": "code",
   "execution_count": 17,
   "metadata": {},
   "outputs": [],
   "source": [
    "dfgood = df[df['quality'] == '1'] # df for good quality wine exclusively\n",
    "dfbad = df[df['quality'] == '0'] # df for bad quality wine exclusively"
   ]
  },
  {
   "cell_type": "code",
   "execution_count": 18,
   "metadata": {},
   "outputs": [
    {
     "data": {
      "text/plain": [
       "<Figure size 432x288 with 0 Axes>"
      ]
     },
     "metadata": {},
     "output_type": "display_data"
    },
    {
     "data": {
      "image/png": "[encoded data removed]",
      "text/plain": [
       "<Figure size 320x240 with 1 Axes>"
      ]
     },
     "metadata": {},
     "output_type": "display_data"
    },
    {
     "data": {
      "image/png": "[encoded data removed]",
      "text/plain": [
       "<Figure size 320x240 with 1 Axes>"
      ]
     },
     "metadata": {},
     "output_type": "display_data"
    },
    {
     "data": {
      "image/png": "[encoded data removed]",
      "text/plain": [
       "<Figure size 320x240 with 1 Axes>"
      ]
     },
     "metadata": {},
     "output_type": "display_data"
    },
    {
     "data": {
      "image/png": "[encoded data removed]",
      "text/plain": [
       "<Figure size 320x240 with 1 Axes>"
      ]
     },
     "metadata": {},
     "output_type": "display_data"
    },
    {
     "data": {
      "image/png": "[encoded data removed]",
      "text/plain": [
       "<Figure size 320x240 with 1 Axes>"
      ]
     },
     "metadata": {},
     "output_type": "display_data"
    },
    {
     "data": {
      "image/png": "[encoded data removed]",
      "text/plain": [
       "<Figure size 320x240 with 1 Axes>"
      ]
     },
     "metadata": {},
     "output_type": "display_data"
    },
    {
     "data": {
      "image/png": "[encoded data removed]",
      "text/plain": [
       "<Figure size 320x240 with 1 Axes>"
      ]
     },
     "metadata": {},
     "output_type": "display_data"
    },
    {
     "data": {
      "image/png": "[encoded data removed]",
      "text/plain": [
       "<Figure size 320x240 with 1 Axes>"
      ]
     },
     "metadata": {},
     "output_type": "display_data"
    },
    {
     "data": {
      "image/png": "[encoded data removed]",
      "text/plain": [
       "<Figure size 320x240 with 1 Axes>"
      ]
     },
     "metadata": {},
     "output_type": "display_data"
    },
    {
     "data": {
      "image/png": "[encoded data removed]",
      "text/plain": [
       "<Figure size 320x240 with 1 Axes>"
      ]
     },
     "metadata": {},
     "output_type": "display_data"
    },
    {
     "data": {
      "image/png": "[encoded data removed]",
      "text/plain": [
       "<Figure size 320x240 with 1 Axes>"
      ]
     },
     "metadata": {},
     "output_type": "display_data"
    },
    {
     "data": {
      "image/png": "[encoded data removed]",
      "text/plain": [
       "<Figure size 320x240 with 1 Axes>"
      ]
     },
     "metadata": {},
     "output_type": "display_data"
    }
   ],
   "source": [
    "# Bar graphs of the features vs quality\n",
    "plt.clf()\n",
    "for var in list(df.columns):\n",
    "    try:\n",
    "        averages = []\n",
    "        averages.append(df[df['quality'] == '0'][var].mean()) #good\n",
    "        averages.append(df[df['quality'] == '1'][var].mean()) #bad\n",
    "        plt.figure(num=None, figsize=(4, 3), dpi=80, facecolor='w', edgecolor='k')\n",
    "        plt.ylabel(var)\n",
    "        plt.bar([\"0\",\"1\"],averages)\n",
    "        plt.show()\n",
    "    except:\n",
    "        print (var)"
   ]
  },
  {
   "cell_type": "markdown",
   "metadata": {},
   "source": [
    "fixed acidity, residual sugar, chlorides, free sulfur dioxide, density, and pH don't seem to have an effect on quality and should be considered for removal"
   ]
  },
  {
   "cell_type": "code",
   "execution_count": 19,
   "metadata": {},
   "outputs": [
    {
     "data": {
      "text/plain": [
       "<seaborn.axisgrid.JointGrid at 0x1e9c5fb4be0>"
      ]
     },
     "execution_count": 19,
     "metadata": {},
     "output_type": "execute_result"
    },
    {
     "data": {
      "text/plain": [
       "<Figure size 864x432 with 0 Axes>"
      ]
     },
     "metadata": {},
     "output_type": "display_data"
    },
    {
     "data": {
      "image/png": "[encoded data removed]",
      "text/plain": [
       "<Figure size 432x432 with 3 Axes>"
      ]
     },
     "metadata": {
      "needs_background": "light"
     },
     "output_type": "display_data"
    },
    {
     "data": {
      "text/plain": [
       "<Figure size 864x432 with 0 Axes>"
      ]
     },
     "metadata": {},
     "output_type": "display_data"
    },
    {
     "data": {
      "image/png": "[encoded data removed]",
      "text/plain": [
       "<Figure size 432x432 with 3 Axes>"
      ]
     },
     "metadata": {
      "needs_background": "light"
     },
     "output_type": "display_data"
    },
    {
     "data": {
      "text/plain": [
       "<Figure size 864x432 with 0 Axes>"
      ]
     },
     "metadata": {},
     "output_type": "display_data"
    },
    {
     "data": {
      "image/png": "[encoded data removed]",
      "text/plain": [
       "<Figure size 432x432 with 3 Axes>"
      ]
     },
     "metadata": {
      "needs_background": "light"
     },
     "output_type": "display_data"
    },
    {
     "data": {
      "text/plain": [
       "<Figure size 864x432 with 0 Axes>"
      ]
     },
     "metadata": {},
     "output_type": "display_data"
    },
    {
     "data": {
      "image/png": "[encoded data removed]",
      "text/plain": [
       "<Figure size 432x432 with 3 Axes>"
      ]
     },
     "metadata": {
      "needs_background": "light"
     },
     "output_type": "display_data"
    },
    {
     "data": {
      "text/plain": [
       "<Figure size 864x432 with 0 Axes>"
      ]
     },
     "metadata": {},
     "output_type": "display_data"
    },
    {
     "data": {
      "image/png": "[encoded data removed]",
      "text/plain": [
       "<Figure size 432x432 with 3 Axes>"
      ]
     },
     "metadata": {
      "needs_background": "light"
     },
     "output_type": "display_data"
    },
    {
     "data": {
      "text/plain": [
       "<Figure size 864x432 with 0 Axes>"
      ]
     },
     "metadata": {},
     "output_type": "display_data"
    },
    {
     "data": {
      "image/png": "[encoded data removed]",
      "text/plain": [
       "<Figure size 432x432 with 3 Axes>"
      ]
     },
     "metadata": {
      "needs_background": "light"
     },
     "output_type": "display_data"
    }
   ],
   "source": [
    "#Double check potential dropables using hexplots\n",
    "df.is_copy = False\n",
    "#total sulfur dioxide\n",
    "df[\"quality\"] = df[\"quality\"].apply(lambda x: float(x)) #needed because \"quality\" was a non-int\n",
    "plt.figure(figsize=(12,6))\n",
    "sns.jointplot(y=df[\"fixed acidity\"],x=df[\"quality\"],kind=\"hex\")\n",
    "#TypeError: can't multiply sequence by non-int of type 'float'\n",
    "\n",
    "#pH\n",
    "df[\"quality\"] = df[\"quality\"].apply(lambda x: float(x)) #needed because \"quality\" was a non-int\n",
    "plt.figure(figsize=(12,6))\n",
    "sns.jointplot(y=df[\"residual sugar\"],x=df[\"quality\"],kind=\"hex\")\n",
    "\n",
    "#residual sugar\n",
    "df[\"quality\"] = df[\"quality\"].apply(lambda x: float(x)) #needed because \"quality\" was a non-int\n",
    "plt.figure(figsize=(12,6))\n",
    "sns.jointplot(y=df[\"chlorides\"],x=df[\"quality\"],kind=\"hex\")\n",
    "\n",
    "#alcohol\n",
    "df[\"quality\"] = df[\"quality\"].apply(lambda x: float(x)) #needed because \"quality\" was a non-int\n",
    "plt.figure(figsize=(12,6))\n",
    "sns.jointplot(y=df[\"free sulfur dioxide\"],x=df[\"quality\"],kind=\"hex\")\n",
    "\n",
    "#density\n",
    "df[\"quality\"] = df[\"quality\"].apply(lambda x: float(x)) #needed because \"quality\" was a non-int\n",
    "plt.figure(figsize=(12,6))\n",
    "sns.jointplot(y=df[\"density\"],x=df[\"quality\"],kind=\"hex\")\n",
    "\n",
    "#citric acid\n",
    "df[\"quality\"] = df[\"quality\"].apply(lambda x: float(x)) #needed because \"quality\" was a non-int\n",
    "plt.figure(figsize=(12,6))\n",
    "sns.jointplot(y=df[\"pH\"],x=df[\"quality\"],kind=\"hex\")"
   ]
  },
  {
   "cell_type": "code",
   "execution_count": 20,
   "metadata": {},
   "outputs": [],
   "source": [
    "#Drops columns with corr close to 0 and little variance in the bar chart\n",
    "features = df.columns.drop(['quality', 'fixed acidity', 'chlorides', 'free sulfur dioxide', 'density', 'residual sugar', 'pH' ])"
   ]
  },
  {
   "cell_type": "code",
   "execution_count": 21,
   "metadata": {},
   "outputs": [
    {
     "data": {
      "text/plain": [
       "[['fixed acidity', 'citric acid', 0.6997465085687029],\n",
       " ['fixed acidity', 'density', 0.6604969854664455],\n",
       " ['citric acid', 'fixed acidity', 0.6997465085687029],\n",
       " ['free sulfur dioxide', 'total sulfur dioxide', 0.6603476787765864],\n",
       " ['total sulfur dioxide', 'free sulfur dioxide', 0.6603476787765864],\n",
       " ['density', 'fixed acidity', 0.6604969854664455]]"
      ]
     },
     "execution_count": 21,
     "metadata": {},
     "output_type": "execute_result"
    }
   ],
   "source": [
    "#Displays a matrix of the features with the highest correlations\n",
    "corr_features =[]\n",
    "\n",
    "for i , r in df.corr().iterrows():  \n",
    "    k=0\n",
    "    for j in range(len(r)):\n",
    "        if i!= r.index[k]:\n",
    "            if r.values[k] >=0.5: #only correlates values with r valus of 0.5 or greater\n",
    "                corr_features.append([i, r.index[k], r.values[k]])\n",
    "        k += 1\n",
    "corr_features"
   ]
  },
  {
   "cell_type": "code",
   "execution_count": 22,
   "metadata": {},
   "outputs": [],
   "source": [
    "#define columns\n",
    "columns = ['volatile acidity', 'citric acid', 'total sulfur dioxide', 'sulphates', 'alcohol']"
   ]
  },
  {
   "cell_type": "code",
   "execution_count": 23,
   "metadata": {},
   "outputs": [
    {
     "data": {
      "text/plain": [
       "<matplotlib.collections.PathCollection at 0x1e9c6231fa0>"
      ]
     },
     "execution_count": 23,
     "metadata": {},
     "output_type": "execute_result"
    },
    {
     "data": {
      "image/png": "[encoded data removed]",
      "text/plain": [
       "<Figure size 432x288 with 1 Axes>"
      ]
     },
     "metadata": {
      "needs_background": "light"
     },
     "output_type": "display_data"
    }
   ],
   "source": [
    "#Scatter plot\n",
    "plt.scatter(df.iloc[:, 0], df.iloc[:, 1])"
   ]
  },
  {
   "cell_type": "code",
   "execution_count": 24,
   "metadata": {},
   "outputs": [
    {
     "data": {
      "text/html": [
       "<div>\n",
       "<style scoped>\n",
       "    .dataframe tbody tr th:only-of-type {\n",
       "        vertical-align: middle;\n",
       "    }\n",
       "\n",
       "    .dataframe tbody tr th {\n",
       "        vertical-align: top;\n",
       "    }\n",
       "\n",
       "    .dataframe thead th {\n",
       "        text-align: right;\n",
       "    }\n",
       "</style>\n",
       "<table border=\"1\" class=\"dataframe\">\n",
       "  <thead>\n",
       "    <tr style=\"text-align: right;\">\n",
       "      <th></th>\n",
       "      <th>volatile acidity</th>\n",
       "      <th>citric acid</th>\n",
       "      <th>total sulfur dioxide</th>\n",
       "      <th>sulphates</th>\n",
       "      <th>alcohol</th>\n",
       "    </tr>\n",
       "  </thead>\n",
       "  <tbody>\n",
       "    <tr>\n",
       "      <th>0</th>\n",
       "      <td>0.630435</td>\n",
       "      <td>0.000000</td>\n",
       "      <td>0.201439</td>\n",
       "      <td>0.277108</td>\n",
       "      <td>0.192308</td>\n",
       "    </tr>\n",
       "    <tr>\n",
       "      <th>1</th>\n",
       "      <td>0.826087</td>\n",
       "      <td>0.000000</td>\n",
       "      <td>0.438849</td>\n",
       "      <td>0.421687</td>\n",
       "      <td>0.269231</td>\n",
       "    </tr>\n",
       "    <tr>\n",
       "      <th>2</th>\n",
       "      <td>0.695652</td>\n",
       "      <td>0.050633</td>\n",
       "      <td>0.345324</td>\n",
       "      <td>0.385542</td>\n",
       "      <td>0.269231</td>\n",
       "    </tr>\n",
       "    <tr>\n",
       "      <th>3</th>\n",
       "      <td>0.173913</td>\n",
       "      <td>0.708861</td>\n",
       "      <td>0.388489</td>\n",
       "      <td>0.301205</td>\n",
       "      <td>0.269231</td>\n",
       "    </tr>\n",
       "    <tr>\n",
       "      <th>4</th>\n",
       "      <td>0.630435</td>\n",
       "      <td>0.000000</td>\n",
       "      <td>0.201439</td>\n",
       "      <td>0.277108</td>\n",
       "      <td>0.192308</td>\n",
       "    </tr>\n",
       "  </tbody>\n",
       "</table>\n",
       "</div>"
      ],
      "text/plain": [
       "   volatile acidity  citric acid  total sulfur dioxide  sulphates   alcohol\n",
       "0          0.630435     0.000000              0.201439   0.277108  0.192308\n",
       "1          0.826087     0.000000              0.438849   0.421687  0.269231\n",
       "2          0.695652     0.050633              0.345324   0.385542  0.269231\n",
       "3          0.173913     0.708861              0.388489   0.301205  0.269231\n",
       "4          0.630435     0.000000              0.201439   0.277108  0.192308"
      ]
     },
     "execution_count": 24,
     "metadata": {},
     "output_type": "execute_result"
    }
   ],
   "source": [
    "# min-max to scale the data between 0 and 1\n",
    "from sklearn.preprocessing import MinMaxScaler\n",
    "scaler = MinMaxScaler()\n",
    "df[features] = scaler.fit_transform(df[features])\n",
    "df[features].head()"
   ]
  },
  {
   "cell_type": "code",
   "execution_count": 25,
   "metadata": {},
   "outputs": [],
   "source": [
    "X, y = df[features], df[\"quality\"] #define x and y"
   ]
  },
  {
   "cell_type": "code",
   "execution_count": 26,
   "metadata": {},
   "outputs": [],
   "source": [
    "lenTrain, lenVal = 600, 200"
   ]
  },
  {
   "cell_type": "code",
   "execution_count": 27,
   "metadata": {},
   "outputs": [],
   "source": [
    "X_train, X_val, X_test = X[:lenTrain], X[lenTrain:(lenTrain+lenVal)], X[(lenTrain+lenVal):]\n",
    "y_train, y_val, y_test = y[:lenTrain], y[lenTrain:(lenTrain+lenVal)], y[(lenTrain+lenVal):]"
   ]
  },
  {
   "cell_type": "code",
   "execution_count": 28,
   "metadata": {},
   "outputs": [],
   "source": [
    "knn = KNeighborsClassifier()\n",
    "tree = DecisionTreeClassifier(random_state=42)\n",
    "gnb = GaussianNB()\n",
    "svm = SVC(random_state=42)\n",
    "rf = RandomForestClassifier(random_state=42)\n",
    "ada = AdaBoostClassifier(random_state=42)\n",
    "bag = BaggingClassifier(random_state=42)"
   ]
  },
  {
   "cell_type": "code",
   "execution_count": 29,
   "metadata": {},
   "outputs": [
    {
     "name": "stdout",
     "output_type": "stream",
     "text": [
      "KNeighborsClassifier(n_neighbors=30)\n",
      "0.7568658475665881\n"
     ]
    }
   ],
   "source": [
    "# KNN with gridsearch\n",
    "gridKNN = GridSearchCV(\n",
    "    estimator=knn, param_grid={'n_neighbors': [3, 5,7, 10, 15, 30], \"weights\": [\"distance\", \"uniform\"]}, \n",
    "    scoring=\"precision\", refit = True, cv=5\n",
    ")\n",
    "gridKNN.fit(X_train,y_train)\n",
    "KNNpredict=gridKNN.predict(X_test)\n",
    "\n",
    "print (gridKNN.best_estimator_)\n",
    "print (gridKNN.best_score_)"
   ]
  },
  {
   "cell_type": "code",
   "execution_count": 30,
   "metadata": {},
   "outputs": [
    {
     "name": "stdout",
     "output_type": "stream",
     "text": [
      "SVC(C=0.5, random_state=42)\n",
      "0.758755980861244\n"
     ]
    }
   ],
   "source": [
    "# SVC with gridsearch \n",
    "gridSVC = GridSearchCV(\n",
    "    estimator=svm, param_grid={'C': [0.5,1,2]}, \n",
    "    scoring=\"precision\", cv=5\n",
    ")\n",
    "gridSVC.fit(X_train, y_train)\n",
    "print (gridSVC.best_estimator_)\n",
    "print (gridSVC.best_score_)"
   ]
  },
  {
   "cell_type": "code",
   "execution_count": 31,
   "metadata": {},
   "outputs": [
    {
     "name": "stdout",
     "output_type": "stream",
     "text": [
      "DecisionTreeClassifier(random_state=42)\n",
      "0.6871523307436183\n"
     ]
    }
   ],
   "source": [
    "# Tree with gridsearch\n",
    "gridTree = GridSearchCV(\n",
    "    estimator=tree, param_grid={'max_depth': [None, 5, 10]}, \n",
    "    scoring=\"precision\", cv=5\n",
    ")\n",
    "gridTree.fit(X_train, y_train)\n",
    "print (gridTree.best_estimator_)\n",
    "print (gridTree.best_score_)"
   ]
  },
  {
   "cell_type": "code",
   "execution_count": 32,
   "metadata": {},
   "outputs": [
    {
     "name": "stdout",
     "output_type": "stream",
     "text": [
      "RandomForestClassifier(max_depth=5, n_estimators=20, random_state=42)\n",
      "0.7722982806667018\n"
     ]
    }
   ],
   "source": [
    "#  Random Forest\n",
    "gridRF = GridSearchCV(\n",
    "    estimator=rf, param_grid={\"n_estimators\": [3, 5, 7, 10, 12, 15, 20, 30], 'max_depth': [None, 5, 10]}, \n",
    "    scoring=\"precision\", cv=5\n",
    ")\n",
    "gridRF.fit(X_train, y_train)\n",
    "print (gridRF.best_estimator_)\n",
    "print (gridRF.best_score_)"
   ]
  },
  {
   "cell_type": "code",
   "execution_count": 33,
   "metadata": {},
   "outputs": [
    {
     "name": "stdout",
     "output_type": "stream",
     "text": [
      "AdaBoostClassifier(base_estimator=DecisionTreeClassifier(max_depth=5),\n",
      "                   learning_rate=1.5, random_state=42)\n",
      "0.7210396179472227\n"
     ]
    }
   ],
   "source": [
    "#  Adaboost Regressor\n",
    "adaParams = {\"base_estimator\":[\n",
    "    None, \n",
    "    DecisionTreeClassifier(max_depth=5)\n",
    "], \"n_estimators\":[5, 10, 30, 50, 60], \"learning_rate\":[.5, 1.0, 1.5], \"algorithm\":[\"SAMME.R\"]}\n",
    "gridAda = GridSearchCV(\n",
    "    estimator=ada, param_grid=adaParams,\n",
    "    scoring=\"precision\", cv=5\n",
    ")\n",
    "gridAda.fit(X_train, y_train)\n",
    "print (gridAda.best_estimator_)\n",
    "print (gridAda.best_score_)"
   ]
  },
  {
   "cell_type": "code",
   "execution_count": 34,
   "metadata": {},
   "outputs": [
    {
     "name": "stdout",
     "output_type": "stream",
     "text": [
      "BaggingClassifier(base_estimator=KNeighborsClassifier(n_neighbors=10),\n",
      "                  n_estimators=5, random_state=42)\n",
      "0.7222242677139584\n"
     ]
    }
   ],
   "source": [
    "#  Bagging Regressor\n",
    "bagParams = {\"base_estimator\":[\n",
    "    None, \n",
    "    KNeighborsClassifier(n_neighbors=10, weights='uniform'), \n",
    "    KNeighborsClassifier(n_neighbors=5, weights='uniform'), \n",
    "    KNeighborsClassifier(n_neighbors=10, weights='distance'), \n",
    "    KNeighborsClassifier(n_neighbors=5, weights='distance'), \n",
    "    DecisionTreeClassifier(max_depth=5)\n",
    "], \"n_estimators\":[5, 10, 30, 50, 60]}\n",
    "gridBag = GridSearchCV(\n",
    "    estimator=BaggingClassifier(random_state=42), param_grid=bagParams, \n",
    "    scoring=\"precision\", cv=3\n",
    ")\n",
    "gridBag.fit(X_train, y_train)\n",
    "print (gridBag.best_estimator_)\n",
    "print (gridBag.best_score_)"
   ]
  },
  {
   "cell_type": "markdown",
   "metadata": {},
   "source": [
    "RandomForest had the highest score of 0.772. I will use RF to demonstrate wine quality predictions. "
   ]
  },
  {
   "cell_type": "code",
   "execution_count": 35,
   "metadata": {},
   "outputs": [
    {
     "data": {
      "text/html": [
       "<div>\n",
       "<style scoped>\n",
       "    .dataframe tbody tr th:only-of-type {\n",
       "        vertical-align: middle;\n",
       "    }\n",
       "\n",
       "    .dataframe tbody tr th {\n",
       "        vertical-align: top;\n",
       "    }\n",
       "\n",
       "    .dataframe thead th {\n",
       "        text-align: right;\n",
       "    }\n",
       "</style>\n",
       "<table border=\"1\" class=\"dataframe\">\n",
       "  <thead>\n",
       "    <tr style=\"text-align: right;\">\n",
       "      <th></th>\n",
       "      <th>Actual</th>\n",
       "      <th>Predicted</th>\n",
       "    </tr>\n",
       "  </thead>\n",
       "  <tbody>\n",
       "    <tr>\n",
       "      <th>888</th>\n",
       "      <td>1.0</td>\n",
       "      <td>0.0</td>\n",
       "    </tr>\n",
       "    <tr>\n",
       "      <th>890</th>\n",
       "      <td>0.0</td>\n",
       "      <td>1.0</td>\n",
       "    </tr>\n",
       "    <tr>\n",
       "      <th>891</th>\n",
       "      <td>0.0</td>\n",
       "      <td>0.0</td>\n",
       "    </tr>\n",
       "    <tr>\n",
       "      <th>892</th>\n",
       "      <td>1.0</td>\n",
       "      <td>1.0</td>\n",
       "    </tr>\n",
       "    <tr>\n",
       "      <th>893</th>\n",
       "      <td>0.0</td>\n",
       "      <td>0.0</td>\n",
       "    </tr>\n",
       "    <tr>\n",
       "      <th>...</th>\n",
       "      <td>...</td>\n",
       "      <td>...</td>\n",
       "    </tr>\n",
       "    <tr>\n",
       "      <th>1594</th>\n",
       "      <td>0.0</td>\n",
       "      <td>1.0</td>\n",
       "    </tr>\n",
       "    <tr>\n",
       "      <th>1595</th>\n",
       "      <td>1.0</td>\n",
       "      <td>1.0</td>\n",
       "    </tr>\n",
       "    <tr>\n",
       "      <th>1596</th>\n",
       "      <td>1.0</td>\n",
       "      <td>1.0</td>\n",
       "    </tr>\n",
       "    <tr>\n",
       "      <th>1597</th>\n",
       "      <td>0.0</td>\n",
       "      <td>1.0</td>\n",
       "    </tr>\n",
       "    <tr>\n",
       "      <th>1598</th>\n",
       "      <td>1.0</td>\n",
       "      <td>1.0</td>\n",
       "    </tr>\n",
       "  </tbody>\n",
       "</table>\n",
       "<p>658 rows × 2 columns</p>\n",
       "</div>"
      ],
      "text/plain": [
       "      Actual  Predicted\n",
       "888      1.0        0.0\n",
       "890      0.0        1.0\n",
       "891      0.0        0.0\n",
       "892      1.0        1.0\n",
       "893      0.0        0.0\n",
       "...      ...        ...\n",
       "1594     0.0        1.0\n",
       "1595     1.0        1.0\n",
       "1596     1.0        1.0\n",
       "1597     0.0        1.0\n",
       "1598     1.0        1.0\n",
       "\n",
       "[658 rows x 2 columns]"
      ]
     },
     "execution_count": 35,
     "metadata": {},
     "output_type": "execute_result"
    }
   ],
   "source": [
    "y_pred = gridRF.predict(X_test)\n",
    "rfDF = pd.DataFrame({'Actual':y_test, 'Predicted':y_pred})\n",
    "rfDF "
   ]
  },
  {
   "cell_type": "code",
   "execution_count": 36,
   "metadata": {},
   "outputs": [
    {
     "name": "stdout",
     "output_type": "stream",
     "text": [
      "Mean Absolute Error: 0.24468085106382978\n",
      "Mean Squared Error: 0.24468085106382978\n",
      "Root Mean Squared Error: 0.4946522526622413\n"
     ]
    }
   ],
   "source": [
    "print('Mean Absolute Error:', sm.mean_absolute_error(y_test, y_pred))\n",
    "print('Mean Squared Error:', sm.mean_squared_error(y_test, y_pred))\n",
    "print('Root Mean Squared Error:', np.sqrt(sm.mean_squared_error(y_test, y_pred)))"
   ]
  },
  {
   "cell_type": "markdown",
   "metadata": {},
   "source": [
    "The mean of 'quality' was 0.534709."
   ]
  },
  {
   "cell_type": "code",
   "execution_count": 37,
   "metadata": {},
   "outputs": [
    {
     "data": {
      "image/png": "[encoded data removed]",
      "text/plain": [
       "<Figure size 360x504 with 1 Axes>"
      ]
     },
     "metadata": {
      "needs_background": "light"
     },
     "output_type": "display_data"
    }
   ],
   "source": [
    "#Graph of actual vs predicted quality\n",
    "plt.figure(figsize=(5, 7))\n",
    "\n",
    "\n",
    "ax = sns.distplot(y_test, hist=False, color=\"r\", label=\"Actual Value\")\n",
    "sns.distplot(y_pred, hist=False, color=\"b\", label=\"Fitted Values\" , ax=ax)\n",
    "\n",
    "\n",
    "plt.title('Actual vs Fitted Values for Quality')\n",
    "\n",
    "\n",
    "plt.show()\n",
    "plt.close()"
   ]
  },
  {
   "cell_type": "markdown",
   "metadata": {},
   "source": [
    "\n",
    "**Unsupervised Learning**\n",
    "\n"
   ]
  },
  {
   "cell_type": "code",
   "execution_count": 38,
   "metadata": {
    "scrolled": true
   },
   "outputs": [
    {
     "data": {
      "text/html": [
       "<div>\n",
       "<style scoped>\n",
       "    .dataframe tbody tr th:only-of-type {\n",
       "        vertical-align: middle;\n",
       "    }\n",
       "\n",
       "    .dataframe tbody tr th {\n",
       "        vertical-align: top;\n",
       "    }\n",
       "\n",
       "    .dataframe thead th {\n",
       "        text-align: right;\n",
       "    }\n",
       "</style>\n",
       "<table border=\"1\" class=\"dataframe\">\n",
       "  <thead>\n",
       "    <tr style=\"text-align: right;\">\n",
       "      <th></th>\n",
       "      <th>fixed acidity</th>\n",
       "      <th>volatile acidity</th>\n",
       "      <th>citric acid</th>\n",
       "      <th>residual sugar</th>\n",
       "      <th>chlorides</th>\n",
       "      <th>free sulfur dioxide</th>\n",
       "      <th>total sulfur dioxide</th>\n",
       "      <th>density</th>\n",
       "      <th>pH</th>\n",
       "      <th>sulphates</th>\n",
       "      <th>alcohol</th>\n",
       "      <th>quality</th>\n",
       "    </tr>\n",
       "  </thead>\n",
       "  <tbody>\n",
       "    <tr>\n",
       "      <th>0</th>\n",
       "      <td>7.4</td>\n",
       "      <td>0.630435</td>\n",
       "      <td>0.000000</td>\n",
       "      <td>1.9</td>\n",
       "      <td>0.076</td>\n",
       "      <td>11</td>\n",
       "      <td>0.201439</td>\n",
       "      <td>0.9978</td>\n",
       "      <td>3.51</td>\n",
       "      <td>0.277108</td>\n",
       "      <td>0.192308</td>\n",
       "      <td>0.0</td>\n",
       "    </tr>\n",
       "    <tr>\n",
       "      <th>1</th>\n",
       "      <td>7.8</td>\n",
       "      <td>0.826087</td>\n",
       "      <td>0.000000</td>\n",
       "      <td>2.6</td>\n",
       "      <td>0.098</td>\n",
       "      <td>25</td>\n",
       "      <td>0.438849</td>\n",
       "      <td>0.9968</td>\n",
       "      <td>3.20</td>\n",
       "      <td>0.421687</td>\n",
       "      <td>0.269231</td>\n",
       "      <td>0.0</td>\n",
       "    </tr>\n",
       "    <tr>\n",
       "      <th>2</th>\n",
       "      <td>7.8</td>\n",
       "      <td>0.695652</td>\n",
       "      <td>0.050633</td>\n",
       "      <td>2.3</td>\n",
       "      <td>0.092</td>\n",
       "      <td>15</td>\n",
       "      <td>0.345324</td>\n",
       "      <td>0.9970</td>\n",
       "      <td>3.26</td>\n",
       "      <td>0.385542</td>\n",
       "      <td>0.269231</td>\n",
       "      <td>0.0</td>\n",
       "    </tr>\n",
       "    <tr>\n",
       "      <th>3</th>\n",
       "      <td>11.2</td>\n",
       "      <td>0.173913</td>\n",
       "      <td>0.708861</td>\n",
       "      <td>1.9</td>\n",
       "      <td>0.075</td>\n",
       "      <td>17</td>\n",
       "      <td>0.388489</td>\n",
       "      <td>0.9980</td>\n",
       "      <td>3.16</td>\n",
       "      <td>0.301205</td>\n",
       "      <td>0.269231</td>\n",
       "      <td>1.0</td>\n",
       "    </tr>\n",
       "    <tr>\n",
       "      <th>4</th>\n",
       "      <td>7.4</td>\n",
       "      <td>0.630435</td>\n",
       "      <td>0.000000</td>\n",
       "      <td>1.9</td>\n",
       "      <td>0.076</td>\n",
       "      <td>11</td>\n",
       "      <td>0.201439</td>\n",
       "      <td>0.9978</td>\n",
       "      <td>3.51</td>\n",
       "      <td>0.277108</td>\n",
       "      <td>0.192308</td>\n",
       "      <td>0.0</td>\n",
       "    </tr>\n",
       "  </tbody>\n",
       "</table>\n",
       "</div>"
      ],
      "text/plain": [
       "   fixed acidity  volatile acidity  citric acid  residual sugar  chlorides  \\\n",
       "0            7.4          0.630435     0.000000             1.9      0.076   \n",
       "1            7.8          0.826087     0.000000             2.6      0.098   \n",
       "2            7.8          0.695652     0.050633             2.3      0.092   \n",
       "3           11.2          0.173913     0.708861             1.9      0.075   \n",
       "4            7.4          0.630435     0.000000             1.9      0.076   \n",
       "\n",
       "   free sulfur dioxide  total sulfur dioxide  density    pH  sulphates  \\\n",
       "0                   11              0.201439   0.9978  3.51   0.277108   \n",
       "1                   25              0.438849   0.9968  3.20   0.421687   \n",
       "2                   15              0.345324   0.9970  3.26   0.385542   \n",
       "3                   17              0.388489   0.9980  3.16   0.301205   \n",
       "4                   11              0.201439   0.9978  3.51   0.277108   \n",
       "\n",
       "    alcohol  quality  \n",
       "0  0.192308      0.0  \n",
       "1  0.269231      0.0  \n",
       "2  0.269231      0.0  \n",
       "3  0.269231      1.0  \n",
       "4  0.192308      0.0  "
      ]
     },
     "execution_count": 38,
     "metadata": {},
     "output_type": "execute_result"
    }
   ],
   "source": [
    "df.head()"
   ]
  },
  {
   "cell_type": "code",
   "execution_count": 39,
   "metadata": {},
   "outputs": [],
   "source": [
    "X = df.loc[:, 'fixed acidity':'alcohol'] # sets x to the features except quality\n",
    "y = df['quality'] # sets y equal to quality"
   ]
  },
  {
   "cell_type": "code",
   "execution_count": 40,
   "metadata": {},
   "outputs": [],
   "source": [
    "#Standard Scaler\n",
    "scaler = preprocessing.StandardScaler().fit(X)\n",
    "scaler\n",
    "StandardScaler(copy=True, with_mean=True, with_std=True)\n",
    "X_norm = scaler.transform(X) #or use scaler.fit_transform(x) #fit.transform scalar to X\n"
   ]
  },
  {
   "cell_type": "code",
   "execution_count": 41,
   "metadata": {},
   "outputs": [
    {
     "data": {
      "image/png": "[encoded data removed]",
      "text/plain": [
       "<Figure size 432x288 with 1 Axes>"
      ]
     },
     "metadata": {
      "needs_background": "light"
     },
     "output_type": "display_data"
    }
   ],
   "source": [
    "# PCA \n",
    "pca = PCA()\n",
    "results = pca.fit(X_norm) # applies PCA on predictor variables\n",
    "Z = results.transform(X) # array of possible variables \n",
    "features = range(0, pca.n_components_)\n",
    "plt.bar(features, pca.explained_variance_)\n",
    "plt.xlabel('PCA feature')\n",
    "plt.ylabel('variance')\n",
    "plt.xticks(features)\n",
    "plt.show()\n"
   ]
  },
  {
   "cell_type": "code",
   "execution_count": 42,
   "metadata": {},
   "outputs": [
    {
     "name": "stdout",
     "output_type": "stream",
     "text": [
      "(1458, 3)\n"
     ]
    }
   ],
   "source": [
    "# Dimension Reduction\n",
    "pca = PCA(n_components = 3) #Creates PCA model with # either 2 or 4 \n",
    "pca.fit(X_norm) #Fit PCA instance to scaled samples\n",
    "pca_features = pca.fit_transform(X_norm)\n",
    "print(pca_features.shape)"
   ]
  },
  {
   "cell_type": "code",
   "execution_count": 43,
   "metadata": {},
   "outputs": [
    {
     "data": {
      "text/plain": [
       "<matplotlib.collections.PathCollection at 0x1e9c61ce8b0>"
      ]
     },
     "execution_count": 43,
     "metadata": {},
     "output_type": "execute_result"
    },
    {
     "data": {
      "image/png": "[encoded data removed]",
      "text/plain": [
       "<Figure size 432x288 with 1 Axes>"
      ]
     },
     "metadata": {
      "needs_background": "light"
     },
     "output_type": "display_data"
    }
   ],
   "source": [
    "plt.scatter(pca_features[:, 0], pca_features[:, 1]) #scatter plot of values in column 0 vs values in col 1"
   ]
  },
  {
   "cell_type": "code",
   "execution_count": 44,
   "metadata": {},
   "outputs": [
    {
     "data": {
      "image/png": "[encoded data removed]",
      "text/plain": [
       "<Figure size 432x288 with 1 Axes>"
      ]
     },
     "metadata": {
      "needs_background": "light"
     },
     "output_type": "display_data"
    }
   ],
   "source": [
    "#fit pca to x\n",
    "pca.fit(X_norm)\n",
    "\n",
    "#plot variances\n",
    "features = range(0, pca.n_components_)\n",
    "plt.bar(features, pca.explained_variance_)\n",
    "plt.xlabel('PCA feature')\n",
    "plt.ylabel('variance')\n",
    "plt.xticks(features)\n",
    "plt.show()"
   ]
  },
  {
   "cell_type": "code",
   "execution_count": 45,
   "metadata": {},
   "outputs": [
    {
     "data": {
      "text/plain": [
       "array([0, 0, 0, ..., 0, 0, 0])"
      ]
     },
     "execution_count": 45,
     "metadata": {},
     "output_type": "execute_result"
    }
   ],
   "source": [
    "#Build KMeans model\n",
    "model = KMeans(n_clusters=2)\n",
    "model.fit(X_norm)\n",
    "labels = model.labels_\n",
    "labels"
   ]
  },
  {
   "cell_type": "code",
   "execution_count": 46,
   "metadata": {},
   "outputs": [
    {
     "name": "stdout",
     "output_type": "stream",
     "text": [
      "quality  0.0  1.0\n",
      "row_0            \n",
      "labels   671  787\n"
     ]
    }
   ],
   "source": [
    "# crosstab comparison\n",
    "model = KMeans(n_clusters=2)\n",
    "labels = model.fit_predict(pca_features)\n",
    "\n",
    "ct = pd.crosstab(['labels'], df['quality'])\n",
    "print(ct)"
   ]
  },
  {
   "cell_type": "code",
   "execution_count": 47,
   "metadata": {
    "scrolled": true
   },
   "outputs": [
    {
     "data": {
      "image/png": "[encoded data removed]",
      "text/plain": [
       "<Figure size 432x288 with 1 Axes>"
      ]
     },
     "metadata": {
      "needs_background": "light"
     },
     "output_type": "display_data"
    }
   ],
   "source": [
    "ks = range(1, 8)\n",
    "inertias = []\n",
    "\n",
    "for k in ks:\n",
    "    # Create a KMeans instance with k clusters: model\n",
    "    model = KMeans(n_clusters=k)\n",
    "    \n",
    "    # Fit model to samples\n",
    "    model.fit(pca_features)\n",
    "    \n",
    "    # Append the inertia to the list of inertias\n",
    "    inertias.append(model.inertia_)\n",
    "    \n",
    "# Plot ks vs inertias\n",
    "plt.plot(ks, inertias, '-o')\n",
    "plt.xlabel('number of clusters, k')\n",
    "plt.ylabel('inertia')\n",
    "plt.xticks(ks)\n",
    "plt.show()"
   ]
  },
  {
   "cell_type": "code",
   "execution_count": 48,
   "metadata": {},
   "outputs": [],
   "source": [
    "# 3 or 4 clusters seems to be the optimal number."
   ]
  },
  {
   "cell_type": "markdown",
   "metadata": {},
   "source": [
    "Now for a demonstration"
   ]
  },
  {
   "cell_type": "code",
   "execution_count": 49,
   "metadata": {},
   "outputs": [],
   "source": [
    "#Create DataFrame for mean wine.\n",
    "dict_a = {'volatile acidity':[0.527821],\n",
    "         'citric acid':[0.270976],\n",
    "         'total sulfur dioxide':[46.467792],\n",
    "         'sulphates':[0.658149],\n",
    "         'alcohol':[10.422983]}\n",
    "df_a = pd.DataFrame(dict_a)"
   ]
  },
  {
   "cell_type": "code",
   "execution_count": 50,
   "metadata": {},
   "outputs": [
    {
     "name": "stdout",
     "output_type": "stream",
     "text": [
      "[1.]\n"
     ]
    }
   ],
   "source": [
    "a_pred = gridRF.predict(df_a)\n",
    "print(a_pred)"
   ]
  },
  {
   "cell_type": "markdown",
   "metadata": {},
   "source": [
    "Unsupervised Prediction"
   ]
  },
  {
   "cell_type": "code",
   "execution_count": 51,
   "metadata": {},
   "outputs": [],
   "source": [
    "dict_b = {'fixed acidity':[8.319637],         \n",
    "         'volatile acidity':[0.527821],\n",
    "         'citric acid':[0.270976],\n",
    "         'residual sugar':[2.538806],\n",
    "         'chlorides':[0.087467],\n",
    "         'free sulfur dioxide':[15.874922],\n",
    "         'total sulfur dioxide':[46.467792],\n",
    "         'density':[0.996747],\n",
    "         'pH':[3.311113],\n",
    "         'sulphates':[0.658149],\n",
    "         'alcohol':[10.422983]}\n",
    "df_b = pd.DataFrame(dict_a)"
   ]
  },
  {
   "cell_type": "code",
   "execution_count": 52,
   "metadata": {},
   "outputs": [
    {
     "ename": "ValueError",
     "evalue": "Incorrect number of features. Got 5 features, expected 3.",
     "output_type": "error",
     "traceback": [
      "\u001b[1;31m---------------------------------------------------------------------------\u001b[0m",
      "\u001b[1;31mValueError\u001b[0m                                Traceback (most recent call last)",
      "\u001b[1;32m<ipython-input-52-97b74938e93e>\u001b[0m in \u001b[0;36m<module>\u001b[1;34m\u001b[0m\n\u001b[1;32m----> 1\u001b[1;33m \u001b[0mKMeansPred\u001b[0m \u001b[1;33m=\u001b[0m \u001b[0mmodel\u001b[0m\u001b[1;33m.\u001b[0m\u001b[0mpredict\u001b[0m\u001b[1;33m(\u001b[0m\u001b[0mdf_a\u001b[0m\u001b[1;33m)\u001b[0m\u001b[1;33m\u001b[0m\u001b[1;33m\u001b[0m\u001b[0m\n\u001b[0m\u001b[0;32m      2\u001b[0m \u001b[0mprint\u001b[0m\u001b[1;33m(\u001b[0m\u001b[0mKMeansPred\u001b[0m\u001b[1;33m)\u001b[0m\u001b[1;33m\u001b[0m\u001b[1;33m\u001b[0m\u001b[0m\n",
      "\u001b[1;32m~\\anaconda3\\lib\\site-packages\\sklearn\\cluster\\_kmeans.py\u001b[0m in \u001b[0;36mpredict\u001b[1;34m(self, X, sample_weight)\u001b[0m\n\u001b[0;32m   1199\u001b[0m         \u001b[0mcheck_is_fitted\u001b[0m\u001b[1;33m(\u001b[0m\u001b[0mself\u001b[0m\u001b[1;33m)\u001b[0m\u001b[1;33m\u001b[0m\u001b[1;33m\u001b[0m\u001b[0m\n\u001b[0;32m   1200\u001b[0m \u001b[1;33m\u001b[0m\u001b[0m\n\u001b[1;32m-> 1201\u001b[1;33m         \u001b[0mX\u001b[0m \u001b[1;33m=\u001b[0m \u001b[0mself\u001b[0m\u001b[1;33m.\u001b[0m\u001b[0m_check_test_data\u001b[0m\u001b[1;33m(\u001b[0m\u001b[0mX\u001b[0m\u001b[1;33m)\u001b[0m\u001b[1;33m\u001b[0m\u001b[1;33m\u001b[0m\u001b[0m\n\u001b[0m\u001b[0;32m   1202\u001b[0m         \u001b[0mx_squared_norms\u001b[0m \u001b[1;33m=\u001b[0m \u001b[0mrow_norms\u001b[0m\u001b[1;33m(\u001b[0m\u001b[0mX\u001b[0m\u001b[1;33m,\u001b[0m \u001b[0msquared\u001b[0m\u001b[1;33m=\u001b[0m\u001b[1;32mTrue\u001b[0m\u001b[1;33m)\u001b[0m\u001b[1;33m\u001b[0m\u001b[1;33m\u001b[0m\u001b[0m\n\u001b[0;32m   1203\u001b[0m \u001b[1;33m\u001b[0m\u001b[0m\n",
      "\u001b[1;32m~\\anaconda3\\lib\\site-packages\\sklearn\\cluster\\_kmeans.py\u001b[0m in \u001b[0;36m_check_test_data\u001b[1;34m(self, X)\u001b[0m\n\u001b[0;32m    996\u001b[0m         \u001b[0mexpected_n_features\u001b[0m \u001b[1;33m=\u001b[0m \u001b[0mself\u001b[0m\u001b[1;33m.\u001b[0m\u001b[0mcluster_centers_\u001b[0m\u001b[1;33m.\u001b[0m\u001b[0mshape\u001b[0m\u001b[1;33m[\u001b[0m\u001b[1;36m1\u001b[0m\u001b[1;33m]\u001b[0m\u001b[1;33m\u001b[0m\u001b[1;33m\u001b[0m\u001b[0m\n\u001b[0;32m    997\u001b[0m         \u001b[1;32mif\u001b[0m \u001b[1;32mnot\u001b[0m \u001b[0mn_features\u001b[0m \u001b[1;33m==\u001b[0m \u001b[0mexpected_n_features\u001b[0m\u001b[1;33m:\u001b[0m\u001b[1;33m\u001b[0m\u001b[1;33m\u001b[0m\u001b[0m\n\u001b[1;32m--> 998\u001b[1;33m             raise ValueError(\n\u001b[0m\u001b[0;32m    999\u001b[0m                 \u001b[1;34mf\"Incorrect number of features. Got {n_features} features, \"\u001b[0m\u001b[1;33m\u001b[0m\u001b[1;33m\u001b[0m\u001b[0m\n\u001b[0;32m   1000\u001b[0m                 f\"expected {expected_n_features}.\")\n",
      "\u001b[1;31mValueError\u001b[0m: Incorrect number of features. Got 5 features, expected 3."
     ]
    }
   ],
   "source": [
    "KMeansPred = model.predict(df_a)\n",
    "print(KMeansPred)"
   ]
  },
  {
   "cell_type": "code",
   "execution_count": null,
   "metadata": {},
   "outputs": [],
   "source": []
  }
 ],
 "metadata": {
  "kernelspec": {
   "display_name": "Python 3",
   "language": "python",
   "name": "python3"
  },
  "language_info": {
   "codemirror_mode": {
    "name": "ipython",
    "version": 3
   },
   "file_extension": ".py",
   "mimetype": "text/x-python",
   "name": "python",
   "nbconvert_exporter": "python",
   "pygments_lexer": "ipython3",
   "version": "3.8.5"
  }
 },
 "nbformat": 4,
 "nbformat_minor": 4
}
