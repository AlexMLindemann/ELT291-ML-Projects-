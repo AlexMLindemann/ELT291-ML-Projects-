{
 "cells": [
  {
   "cell_type": "code",
   "execution_count": 19,
   "metadata": {},
   "outputs": [],
   "source": [
    "import gym\n",
    "import random\n",
    "import numpy as np\n",
    "import tensorflow as tf\n",
    "from collections import deque\n",
    "from tensorflow.keras.models import Sequential\n",
    "from tensorflow.keras.layers import Dense, Flatten\n",
    "from tensorflow.keras.optimizers import Adam"
   ]
  },
  {
   "cell_type": "code",
   "execution_count": 20,
   "metadata": {},
   "outputs": [
    {
     "name": "stdout",
     "output_type": "stream",
     "text": [
      "Num GPUs Available:  1\n"
     ]
    }
   ],
   "source": [
    "print(\"Num GPUs Available: \", len(tf.config.list_physical_devices('GPU')))"
   ]
  },
  {
   "cell_type": "code",
   "execution_count": 21,
   "metadata": {},
   "outputs": [],
   "source": [
    "env_name = \"Acrobot-v1\"\n",
    "env = gym.make(env_name)"
   ]
  },
  {
   "cell_type": "code",
   "execution_count": 22,
   "metadata": {},
   "outputs": [
    {
     "name": "stdout",
     "output_type": "stream",
     "text": [
      "Observation space: Discrete(3)\n",
      "action space: Discrete(3)\n"
     ]
    }
   ],
   "source": [
    "print(\"Observation space:\", env.action_space)\n",
    "print(\"action space:\", env.action_space)"
   ]
  },
  {
   "cell_type": "code",
   "execution_count": 23,
   "metadata": {},
   "outputs": [],
   "source": [
    "## Actions are +1, -1, 0 torque"
   ]
  },
  {
   "cell_type": "code",
   "execution_count": 42,
   "metadata": {},
   "outputs": [
    {
     "name": "stdout",
     "output_type": "stream",
     "text": [
      "Final score: -200.0\n"
     ]
    }
   ],
   "source": [
    "#Observe what a random agent will do\n",
    "state = env.reset()\n",
    "score = 0\n",
    "for t in range(200):\n",
    "    action = env.action_space.sample()\n",
    "    env.render()\n",
    "    state, reward, done, _ = env.step(action) #state, reward, whether model finished\n",
    "    score += reward\n",
    "    if done:\n",
    "        break \n",
    "print('Final score:', score)\n",
    "env.close()"
   ]
  },
  {
   "cell_type": "code",
   "execution_count": 29,
   "metadata": {},
   "outputs": [],
   "source": [
    "#Extract states and actions\n",
    "states = env.observation_space.shape[0]\n",
    "actions = env.action_space.n"
   ]
  },
  {
   "cell_type": "code",
   "execution_count": 30,
   "metadata": {},
   "outputs": [],
   "source": [
    "## Create model. Takes state and actions to train\n",
    "\n",
    "def build_model(states, actions):\n",
    "    model = Sequential()\n",
    "    model.add(Flatten(input_shape=(1,states)))\n",
    "    model.add(Dense(24, activation='relu'))\n",
    "    model.add(Dense(24, activation='relu'))\n",
    "    model.add(Dense(actions, activation='linear'))\n",
    "    return model"
   ]
  },
  {
   "cell_type": "code",
   "execution_count": 31,
   "metadata": {},
   "outputs": [
    {
     "name": "stdout",
     "output_type": "stream",
     "text": [
      "Model: \"sequential_1\"\n",
      "_________________________________________________________________\n",
      "Layer (type)                 Output Shape              Param #   \n",
      "=================================================================\n",
      "flatten_1 (Flatten)          (None, 6)                 0         \n",
      "_________________________________________________________________\n",
      "dense_3 (Dense)              (None, 24)                168       \n",
      "_________________________________________________________________\n",
      "dense_4 (Dense)              (None, 24)                600       \n",
      "_________________________________________________________________\n",
      "dense_5 (Dense)              (None, 3)                 75        \n",
      "=================================================================\n",
      "Total params: 843\n",
      "Trainable params: 843\n",
      "Non-trainable params: 0\n",
      "_________________________________________________________________\n"
     ]
    }
   ],
   "source": [
    "#Creates instance of model \n",
    "model = build_model(states, actions)\n",
    "model.summary() # 4 different states, 24 dense nodes, passes out actions in final node"
   ]
  },
  {
   "cell_type": "code",
   "execution_count": 32,
   "metadata": {},
   "outputs": [],
   "source": [
    "#import keras dependencies for training.\n",
    "from rl.agents import DQNAgent #\n",
    "from rl.policy import BoltzmannQPolicy #Policy based RL\n",
    "from rl.memory import SequentialMemory "
   ]
  },
  {
   "cell_type": "code",
   "execution_count": 33,
   "metadata": {},
   "outputs": [
    {
     "name": "stdout",
     "output_type": "stream",
     "text": [
      "Training for 50000 steps ...\n",
      "Interval 1 (0 steps performed)\n"
     ]
    },
    {
     "name": "stderr",
     "output_type": "stream",
     "text": [
      "C:\\Users\\lvhoc\\AppData\\Roaming\\Python\\Python38\\site-packages\\tensorflow\\python\\keras\\engine\\training.py:2325: UserWarning: `Model.state_updates` will be removed in a future version. This property should not be used in TensorFlow 2.0, as `updates` are applied automatically.\n",
      "  warnings.warn('`Model.state_updates` will be removed in a future version. '\n"
     ]
    },
    {
     "name": "stdout",
     "output_type": "stream",
     "text": [
      "    7/10000 [..............................] - ETA: 3:45 - reward: -1.0000  "
     ]
    },
    {
     "name": "stderr",
     "output_type": "stream",
     "text": [
      "C:\\Users\\lvhoc\\anaconda3\\lib\\site-packages\\rl\\memory.py:40: UserWarning: Not enough entries to sample without replacement. Consider increasing your warm-up phase to avoid oversampling!\n",
      "  warnings.warn('Not enough entries to sample without replacement. Consider increasing your warm-up phase to avoid oversampling!')\n"
     ]
    },
    {
     "name": "stdout",
     "output_type": "stream",
     "text": [
      "10000/10000 [==============================] - 194s 19ms/step - reward: -0.9982\n",
      "27 episodes - episode_reward: -359.296 [-500.000, -164.000] - loss: 0.746 - mae: 19.114 - mean_q: -28.174\n",
      "\n",
      "Interval 2 (10000 steps performed)\n",
      "10000/10000 [==============================] - 194s 19ms/step - reward: -0.9947\n",
      "54 episodes - episode_reward: -186.500 [-500.000, -120.000] - loss: 1.356 - mae: 29.317 - mean_q: -43.006\n",
      "\n",
      "Interval 3 (20000 steps performed)\n",
      "10000/10000 [==============================] - 202s 20ms/step - reward: -0.9942\n",
      "58 episodes - episode_reward: -173.517 [-313.000, -93.000] - loss: 1.102 - mae: 26.286 - mean_q: -38.365\n",
      "\n",
      "Interval 4 (30000 steps performed)\n",
      "10000/10000 [==============================] - 214s 21ms/step - reward: -0.9948\n",
      "53 episodes - episode_reward: -186.019 [-500.000, -104.000] - loss: 1.080 - mae: 25.938 - mean_q: -37.863\n",
      "\n",
      "Interval 5 (40000 steps performed)\n",
      "10000/10000 [==============================] - 229s 23ms/step - reward: -0.9944\n",
      "done, took 1031.992 seconds\n"
     ]
    },
    {
     "data": {
      "text/plain": [
       "<tensorflow.python.keras.callbacks.History at 0x2146a9d7fd0>"
      ]
     },
     "execution_count": 33,
     "metadata": {},
     "output_type": "execute_result"
    }
   ],
   "source": [
    "#Train model\n",
    "dqn = build_agent(model, actions)\n",
    "dqn.compile(Adam(lr=1e-3), metrics=['mae']) #pass through optimizer and mean abs error metric \n",
    "dqn.fit(env, nb_steps=50000, visualize=True, verbose=1)"
   ]
  },
  {
   "cell_type": "code",
   "execution_count": 34,
   "metadata": {},
   "outputs": [],
   "source": [
    "#Build agent. Pass through model and actions agent can take\n",
    "def build_agent(model, actions): \n",
    "    policy = BoltzmannQPolicy()\n",
    "    memory = SequentialMemory(limit=70000, window_length=1)\n",
    "    dqn = DQNAgent(model=model, memory=memory, policy=policy, \n",
    "                  nb_actions=actions, nb_steps_warmup=10, target_model_update=1e-2)\n",
    "    return dqn"
   ]
  },
  {
   "cell_type": "code",
   "execution_count": 13,
   "metadata": {},
   "outputs": [],
   "source": [
    "env = gym.make(env_name)"
   ]
  },
  {
   "cell_type": "code",
   "execution_count": 35,
   "metadata": {},
   "outputs": [
    {
     "name": "stdout",
     "output_type": "stream",
     "text": [
      "Testing for 100 episodes ...\n",
      "Episode 1: reward: -90.000, steps: 91\n",
      "Episode 2: reward: -87.000, steps: 88\n",
      "Episode 3: reward: -68.000, steps: 69\n",
      "Episode 4: reward: -70.000, steps: 71\n",
      "Episode 5: reward: -86.000, steps: 87\n",
      "Episode 6: reward: -70.000, steps: 71\n",
      "Episode 7: reward: -68.000, steps: 69\n",
      "Episode 8: reward: -83.000, steps: 84\n",
      "Episode 9: reward: -77.000, steps: 78\n",
      "Episode 10: reward: -69.000, steps: 70\n",
      "Episode 11: reward: -161.000, steps: 162\n",
      "Episode 12: reward: -95.000, steps: 96\n",
      "Episode 13: reward: -132.000, steps: 133\n",
      "Episode 14: reward: -68.000, steps: 69\n",
      "Episode 15: reward: -140.000, steps: 141\n",
      "Episode 16: reward: -69.000, steps: 70\n",
      "Episode 17: reward: -59.000, steps: 60\n",
      "Episode 18: reward: -94.000, steps: 95\n",
      "Episode 19: reward: -68.000, steps: 69\n",
      "Episode 20: reward: -67.000, steps: 68\n",
      "Episode 21: reward: -80.000, steps: 81\n",
      "Episode 22: reward: -104.000, steps: 105\n",
      "Episode 23: reward: -472.000, steps: 473\n",
      "Episode 24: reward: -83.000, steps: 84\n",
      "Episode 25: reward: -68.000, steps: 69\n",
      "Episode 26: reward: -81.000, steps: 82\n",
      "Episode 27: reward: -87.000, steps: 88\n",
      "Episode 28: reward: -77.000, steps: 78\n",
      "Episode 29: reward: -69.000, steps: 70\n",
      "Episode 30: reward: -151.000, steps: 152\n",
      "Episode 31: reward: -59.000, steps: 60\n",
      "Episode 32: reward: -72.000, steps: 73\n",
      "Episode 33: reward: -123.000, steps: 124\n",
      "Episode 34: reward: -68.000, steps: 69\n",
      "Episode 35: reward: -80.000, steps: 81\n",
      "Episode 36: reward: -78.000, steps: 79\n",
      "Episode 37: reward: -176.000, steps: 177\n",
      "Episode 38: reward: -87.000, steps: 88\n",
      "Episode 39: reward: -139.000, steps: 140\n",
      "Episode 40: reward: -75.000, steps: 76\n",
      "Episode 41: reward: -67.000, steps: 68\n",
      "Episode 42: reward: -111.000, steps: 112\n",
      "Episode 43: reward: -97.000, steps: 98\n",
      "Episode 44: reward: -69.000, steps: 70\n",
      "Episode 45: reward: -85.000, steps: 86\n",
      "Episode 46: reward: -59.000, steps: 60\n",
      "Episode 47: reward: -107.000, steps: 108\n",
      "Episode 48: reward: -80.000, steps: 81\n",
      "Episode 49: reward: -80.000, steps: 81\n",
      "Episode 50: reward: -123.000, steps: 124\n",
      "Episode 51: reward: -92.000, steps: 93\n",
      "Episode 52: reward: -75.000, steps: 76\n",
      "Episode 53: reward: -92.000, steps: 93\n",
      "Episode 54: reward: -77.000, steps: 78\n",
      "Episode 55: reward: -71.000, steps: 72\n",
      "Episode 56: reward: -69.000, steps: 70\n",
      "Episode 57: reward: -77.000, steps: 78\n",
      "Episode 58: reward: -76.000, steps: 77\n",
      "Episode 59: reward: -83.000, steps: 84\n",
      "Episode 60: reward: -118.000, steps: 119\n",
      "Episode 61: reward: -77.000, steps: 78\n",
      "Episode 62: reward: -82.000, steps: 83\n",
      "Episode 63: reward: -75.000, steps: 76\n",
      "Episode 64: reward: -76.000, steps: 77\n",
      "Episode 65: reward: -73.000, steps: 74\n",
      "Episode 66: reward: -59.000, steps: 60\n",
      "Episode 67: reward: -69.000, steps: 70\n",
      "Episode 68: reward: -76.000, steps: 77\n",
      "Episode 69: reward: -83.000, steps: 84\n",
      "Episode 70: reward: -68.000, steps: 69\n",
      "Episode 71: reward: -91.000, steps: 92\n",
      "Episode 72: reward: -68.000, steps: 69\n",
      "Episode 73: reward: -90.000, steps: 91\n",
      "Episode 74: reward: -82.000, steps: 83\n",
      "Episode 75: reward: -80.000, steps: 81\n",
      "Episode 76: reward: -69.000, steps: 70\n",
      "Episode 77: reward: -60.000, steps: 61\n",
      "Episode 78: reward: -86.000, steps: 87\n",
      "Episode 79: reward: -86.000, steps: 87\n",
      "Episode 80: reward: -91.000, steps: 92\n",
      "Episode 81: reward: -86.000, steps: 87\n",
      "Episode 82: reward: -68.000, steps: 69\n",
      "Episode 83: reward: -72.000, steps: 73\n",
      "Episode 84: reward: -60.000, steps: 61\n",
      "Episode 85: reward: -90.000, steps: 91\n",
      "Episode 86: reward: -69.000, steps: 70\n",
      "Episode 87: reward: -82.000, steps: 83\n",
      "Episode 88: reward: -73.000, steps: 74\n",
      "Episode 89: reward: -93.000, steps: 94\n",
      "Episode 90: reward: -80.000, steps: 81\n",
      "Episode 91: reward: -92.000, steps: 93\n",
      "Episode 92: reward: -82.000, steps: 83\n",
      "Episode 93: reward: -93.000, steps: 94\n",
      "Episode 94: reward: -77.000, steps: 78\n",
      "Episode 95: reward: -91.000, steps: 92\n",
      "Episode 96: reward: -69.000, steps: 70\n",
      "Episode 97: reward: -68.000, steps: 69\n",
      "Episode 98: reward: -77.000, steps: 78\n",
      "Episode 99: reward: -69.000, steps: 70\n",
      "Episode 100: reward: -76.000, steps: 77\n",
      "-87.66\n"
     ]
    }
   ],
   "source": [
    " #Use test method. Pass through enviornment, 100 games.\n",
    "scores = dqn.test(env, nb_episodes=100, visualize=True)\n",
    "print(np.mean(scores.history['episode_reward']))"
   ]
  },
  {
   "cell_type": "code",
   "execution_count": 44,
   "metadata": {},
   "outputs": [
    {
     "name": "stdout",
     "output_type": "stream",
     "text": [
      "Testing for 15 episodes ...\n",
      "Episode 1: reward: -68.000, steps: 69\n",
      "Episode 2: reward: -67.000, steps: 68\n",
      "Episode 3: reward: -80.000, steps: 81\n",
      "Episode 4: reward: -95.000, steps: 96\n",
      "Episode 5: reward: -86.000, steps: 87\n",
      "Episode 6: reward: -88.000, steps: 89\n",
      "Episode 7: reward: -94.000, steps: 95\n",
      "Episode 8: reward: -80.000, steps: 81\n",
      "Episode 9: reward: -75.000, steps: 76\n",
      "Episode 10: reward: -83.000, steps: 84\n",
      "Episode 11: reward: -68.000, steps: 69\n",
      "Episode 12: reward: -91.000, steps: 92\n",
      "Episode 13: reward: -71.000, steps: 72\n",
      "Episode 14: reward: -60.000, steps: 61\n",
      "Episode 15: reward: -60.000, steps: 61\n"
     ]
    }
   ],
   "source": [
    "_ = dqn.test(env, nb_episodes=15, visualize=True)"
   ]
  },
  {
   "cell_type": "code",
   "execution_count": 45,
   "metadata": {},
   "outputs": [],
   "source": [
    "env.close()"
   ]
  }
 ],
 "metadata": {
  "kernelspec": {
   "display_name": "Python 3",
   "language": "python",
   "name": "python3"
  },
  "language_info": {
   "codemirror_mode": {
    "name": "ipython",
    "version": 3
   },
   "file_extension": ".py",
   "mimetype": "text/x-python",
   "name": "python",
   "nbconvert_exporter": "python",
   "pygments_lexer": "ipython3",
   "version": "3.8.5"
  }
 },
 "nbformat": 4,
 "nbformat_minor": 4
}
